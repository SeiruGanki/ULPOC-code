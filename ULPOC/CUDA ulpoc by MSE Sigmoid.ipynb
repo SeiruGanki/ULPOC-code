{
 "cells": [
  {
   "cell_type": "code",
   "execution_count": 2,
   "id": "af211f66",
   "metadata": {},
   "outputs": [],
   "source": [
    "import torch\n",
    "import torch.nn as nn\n",
    "\n",
    "from torchvision import datasets, transforms\n",
    "from torch.utils.data import TensorDataset\n",
    "from tqdm import tqdm\n",
    "\n",
    "import numpy as np\n",
    "import pickle\n",
    "\n",
    "import seaborn as sns\n",
    "import matplotlib.pyplot as plt"
   ]
  },
  {
   "cell_type": "code",
   "execution_count": 3,
   "id": "edc5d553",
   "metadata": {},
   "outputs": [],
   "source": [
    "class Net(nn.Module):\n",
    "    def __init__(self, N=1000,cut_off = 20, activation_type = None):\n",
    "        super(Net, self).__init__()\n",
    "        self.particle_num = N\n",
    "        \n",
    "        if activation_type == 'ReLU':\n",
    "            self.activation = nn.ReLU()\n",
    "        elif activation_type == 'Sigmoid':\n",
    "            self.activation = nn.Sigmoid()\n",
    "            \n",
    "        self.fc1 = nn.Linear(2, N)\n",
    "        self.fc2 = nn.Linear(N, 1, bias=False)\n",
    "        \n",
    "        nn.init.normal_(self.fc1.weight, mean=0, std=5)\n",
    "        nn.init.normal_(self.fc1.bias, mean=0, std=5)\n",
    "        nn.init.normal_(self.fc2.weight, mean=0, std=5)\n",
    "        \n",
    "        self.cut_off = cut_off\n",
    "\n",
    "    def forward(self, x):\n",
    "        x = self.fc1(x)\n",
    "        x = self.activation(x)\n",
    "        # restrict the weights of fc2 to be within [0, cutoff]\n",
    "        \n",
    "        if self.cut_off != None:\n",
    "            self.fc2.weight.data = torch.clamp(self.fc2.weight.data, min=-self.cut_off, max=self.cut_off)\n",
    "            \n",
    "        x = self.fc2(x)/self.particle_num \n",
    "        \n",
    "        return x.squeeze()\n",
    "\n",
    "class FullGradientDescentWithNoisyAndWeightDecay(torch.optim.Optimizer):\n",
    "    def __init__(self, params, N, lr=1e-3, weight_decay=0, noise_scale=0):\n",
    "        defaults = dict(lr=lr, weight_decay=weight_decay, noise_scale=noise_scale)\n",
    "        self.N =  N\n",
    "        super(FullGradientDescentWithNoisyAndWeightDecay, self).__init__(params, defaults)\n",
    "        \n",
    "    def step(self, closure=None):\n",
    "        loss = None\n",
    "        if closure is not None:\n",
    "            loss = closure()\n",
    "\n",
    "        for group in self.param_groups:\n",
    "            lr = group['lr']\n",
    "            weight_decay = group['weight_decay']\n",
    "            noise_scale = group['noise_scale']\n",
    "            \n",
    "            for p in group['params']:\n",
    "                if p.grad is None:\n",
    "                    continue\n",
    "                    \n",
    "                grad = p.grad.data * self.N\n",
    "                \n",
    "                if weight_decay != 0:\n",
    "                    grad.add_(weight_decay, p.data)\n",
    "                \n",
    "                p.data.add_(-lr, grad)\n",
    "                \n",
    "                if noise_scale != 0:\n",
    "                    noise = torch.randn_like(p.data) * noise_scale * (lr ** 1/2)\n",
    "                    p.data.add_(noise)\n",
    "        \n",
    "        return loss"
   ]
  },
  {
   "cell_type": "code",
   "execution_count": 4,
   "id": "b9a01254",
   "metadata": {},
   "outputs": [],
   "source": [
    "def target_func(v):\n",
    "    return np.sin(2 * np.pi * v[:,0]) + np.cos(2 * np.pi * v[:,1])\n",
    "\n",
    "# Assuming you have input_data and target_data tensors\n",
    "input_data =  torch.rand(1000,2)  # shape: (num_samples, input_size)\n",
    "target_data =target_func(input_data)  # shape: (num_samples, target_size)\n",
    "\n",
    "# Create a TensorDataset object with your data tensors\n",
    "dataset = TensorDataset(input_data, target_data)\n",
    "\n",
    "def trainloss(x, y):\n",
    "    return (x - y) ** 2 / 2"
   ]
  },
  {
   "cell_type": "code",
   "execution_count": 5,
   "id": "1359f4f2",
   "metadata": {},
   "outputs": [],
   "source": [
    "train_loader = torch.utils.data.DataLoader(dataset,\n",
    "    batch_size=1000, shuffle=False)\n",
    "\n",
    "device = torch.device(\"cuda\" if torch.cuda.is_available() else \"cpu\")\n",
    "\n",
    "for batch_idx, (data, target) in enumerate(train_loader):\n",
    "    data, target = data.to(device), target.to(device)\n"
   ]
  },
  {
   "cell_type": "code",
   "execution_count": 6,
   "id": "24a4f78f",
   "metadata": {},
   "outputs": [],
   "source": [
    "weight_decay = 0.00001\n",
    "sigma = 1\n",
    "\n",
    "lr = 0.2 # KL lr = 0.5  MSE 0.1\n",
    "\n",
    "particle_num = 128\n",
    "cut_off = 100\n",
    "\n",
    "activation_type = 'Sigmoid' # relu as default\n",
    "loss_type = 'MSE'"
   ]
  },
  {
   "cell_type": "code",
   "execution_count": 19,
   "id": "9a5381c8",
   "metadata": {
    "scrolled": true
   },
   "outputs": [
    {
     "name": "stderr",
     "output_type": "stream",
     "text": [
      "\r",
      "  0%|                                                                                           | 0/10 [00:00<?, ?it/s]"
     ]
    },
    {
     "name": "stdout",
     "output_type": "stream",
     "text": [
      "Epoch: 1 Train Loss: 0.471869 L2-Train Loss: 0.472851\n",
      "Epoch: 1000 Train Loss: 0.081808 L2-Train Loss: 0.083971\n",
      "Epoch: 2000 Train Loss: 0.025391 L2-Train Loss: 0.028876\n",
      "Epoch: 3000 Train Loss: 0.019669 L2-Train Loss: 0.023997\n",
      "Epoch: 4000 Train Loss: 0.013480 L2-Train Loss: 0.018792\n",
      "Epoch: 5000 Train Loss: 0.013781 L2-Train Loss: 0.019969\n",
      "Epoch: 6000 Train Loss: 0.012353 L2-Train Loss: 0.018957\n",
      "Epoch: 7000 Train Loss: 0.011965 L2-Train Loss: 0.018700\n",
      "Epoch: 8000 Train Loss: 0.013130 L2-Train Loss: 0.020174\n",
      "Epoch: 9000 Train Loss: 0.008548 L2-Train Loss: 0.016018\n",
      "Epoch: 10000 Train Loss: 0.007652 L2-Train Loss: 0.015290\n",
      "Epoch: 11000 Train Loss: 0.007442 L2-Train Loss: 0.015615\n",
      "Epoch: 12000 Train Loss: 0.006997 L2-Train Loss: 0.015609\n",
      "Epoch: 13000 Train Loss: 0.007480 L2-Train Loss: 0.016579\n",
      "Epoch: 14000 Train Loss: 0.007054 L2-Train Loss: 0.016688\n",
      "Epoch: 15000 Train Loss: 0.006558 L2-Train Loss: 0.016691\n",
      "Epoch: 16000 Train Loss: 0.007385 L2-Train Loss: 0.017823\n",
      "Epoch: 17000 Train Loss: 0.010263 L2-Train Loss: 0.020715\n",
      "Epoch: 18000 Train Loss: 0.009008 L2-Train Loss: 0.019976\n",
      "Epoch: 19000 Train Loss: 0.006845 L2-Train Loss: 0.018029\n"
     ]
    },
    {
     "name": "stderr",
     "output_type": "stream",
     "text": [
      "\r",
      " 10%|████████▎                                                                          | 1/10 [00:52<07:49, 52.20s/it]"
     ]
    },
    {
     "name": "stdout",
     "output_type": "stream",
     "text": [
      "Epoch: 20000 Train Loss: 0.007449 L2-Train Loss: 0.019007\n",
      "Epoch: 1 Train Loss: 0.581867 L2-Train Loss: 0.582823\n",
      "Epoch: 1000 Train Loss: 0.068002 L2-Train Loss: 0.070321\n",
      "Epoch: 2000 Train Loss: 0.035251 L2-Train Loss: 0.038507\n",
      "Epoch: 3000 Train Loss: 0.020797 L2-Train Loss: 0.024775\n",
      "Epoch: 4000 Train Loss: 0.015126 L2-Train Loss: 0.019875\n",
      "Epoch: 5000 Train Loss: 0.016485 L2-Train Loss: 0.022043\n",
      "Epoch: 6000 Train Loss: 0.012484 L2-Train Loss: 0.018603\n",
      "Epoch: 7000 Train Loss: 0.011006 L2-Train Loss: 0.017650\n",
      "Epoch: 8000 Train Loss: 0.006813 L2-Train Loss: 0.013904\n",
      "Epoch: 9000 Train Loss: 0.010391 L2-Train Loss: 0.017621\n",
      "Epoch: 10000 Train Loss: 0.009216 L2-Train Loss: 0.016922\n",
      "Epoch: 11000 Train Loss: 0.008178 L2-Train Loss: 0.016768\n",
      "Epoch: 12000 Train Loss: 0.007109 L2-Train Loss: 0.016068\n",
      "Epoch: 13000 Train Loss: 0.008068 L2-Train Loss: 0.017332\n",
      "Epoch: 14000 Train Loss: 0.009974 L2-Train Loss: 0.020073\n",
      "Epoch: 15000 Train Loss: 0.004187 L2-Train Loss: 0.014893\n",
      "Epoch: 16000 Train Loss: 0.007782 L2-Train Loss: 0.018873\n",
      "Epoch: 17000 Train Loss: 0.006954 L2-Train Loss: 0.018618\n",
      "Epoch: 18000 Train Loss: 0.007030 L2-Train Loss: 0.018945\n",
      "Epoch: 19000 Train Loss: 0.007666 L2-Train Loss: 0.019743\n"
     ]
    },
    {
     "name": "stderr",
     "output_type": "stream",
     "text": [
      "\r",
      " 20%|████████████████▌                                                                  | 2/10 [01:44<06:56, 52.02s/it]"
     ]
    },
    {
     "name": "stdout",
     "output_type": "stream",
     "text": [
      "Epoch: 20000 Train Loss: 0.007068 L2-Train Loss: 0.019174\n",
      "Epoch: 1 Train Loss: 0.635605 L2-Train Loss: 0.636696\n",
      "Epoch: 1000 Train Loss: 0.090623 L2-Train Loss: 0.093070\n",
      "Epoch: 2000 Train Loss: 0.040048 L2-Train Loss: 0.043651\n",
      "Epoch: 3000 Train Loss: 0.022386 L2-Train Loss: 0.026694\n",
      "Epoch: 4000 Train Loss: 0.020338 L2-Train Loss: 0.025128\n",
      "Epoch: 5000 Train Loss: 0.018029 L2-Train Loss: 0.023185\n",
      "Epoch: 6000 Train Loss: 0.015307 L2-Train Loss: 0.020956\n",
      "Epoch: 7000 Train Loss: 0.011557 L2-Train Loss: 0.018023\n",
      "Epoch: 8000 Train Loss: 0.010617 L2-Train Loss: 0.017862\n",
      "Epoch: 9000 Train Loss: 0.007555 L2-Train Loss: 0.015423\n",
      "Epoch: 10000 Train Loss: 0.009112 L2-Train Loss: 0.017426\n",
      "Epoch: 11000 Train Loss: 0.010132 L2-Train Loss: 0.019039\n",
      "Epoch: 12000 Train Loss: 0.008461 L2-Train Loss: 0.017570\n",
      "Epoch: 13000 Train Loss: 0.008432 L2-Train Loss: 0.018042\n",
      "Epoch: 14000 Train Loss: 0.007449 L2-Train Loss: 0.017218\n",
      "Epoch: 15000 Train Loss: 0.010589 L2-Train Loss: 0.020908\n",
      "Epoch: 16000 Train Loss: 0.008813 L2-Train Loss: 0.019450\n",
      "Epoch: 17000 Train Loss: 0.009977 L2-Train Loss: 0.021184\n",
      "Epoch: 18000 Train Loss: 0.008719 L2-Train Loss: 0.020488\n",
      "Epoch: 19000 Train Loss: 0.009365 L2-Train Loss: 0.021742\n"
     ]
    },
    {
     "name": "stderr",
     "output_type": "stream",
     "text": [
      "\r",
      " 30%|████████████████████████▉                                                          | 3/10 [02:35<06:02, 51.82s/it]"
     ]
    },
    {
     "name": "stdout",
     "output_type": "stream",
     "text": [
      "Epoch: 20000 Train Loss: 0.012695 L2-Train Loss: 0.024759\n",
      "Epoch: 1 Train Loss: 0.506730 L2-Train Loss: 0.507764\n",
      "Epoch: 1000 Train Loss: 0.060315 L2-Train Loss: 0.062635\n",
      "Epoch: 2000 Train Loss: 0.026187 L2-Train Loss: 0.029489\n",
      "Epoch: 3000 Train Loss: 0.015779 L2-Train Loss: 0.019849\n",
      "Epoch: 4000 Train Loss: 0.014859 L2-Train Loss: 0.019549\n",
      "Epoch: 5000 Train Loss: 0.014010 L2-Train Loss: 0.019144\n",
      "Epoch: 6000 Train Loss: 0.007449 L2-Train Loss: 0.013184\n",
      "Epoch: 7000 Train Loss: 0.007354 L2-Train Loss: 0.013538\n",
      "Epoch: 8000 Train Loss: 0.005470 L2-Train Loss: 0.012418\n",
      "Epoch: 9000 Train Loss: 0.007562 L2-Train Loss: 0.014909\n",
      "Epoch: 10000 Train Loss: 0.008492 L2-Train Loss: 0.016309\n",
      "Epoch: 11000 Train Loss: 0.007149 L2-Train Loss: 0.014922\n",
      "Epoch: 12000 Train Loss: 0.005706 L2-Train Loss: 0.013890\n",
      "Epoch: 13000 Train Loss: 0.006909 L2-Train Loss: 0.015673\n",
      "Epoch: 14000 Train Loss: 0.007277 L2-Train Loss: 0.016547\n",
      "Epoch: 15000 Train Loss: 0.005746 L2-Train Loss: 0.015168\n",
      "Epoch: 16000 Train Loss: 0.007943 L2-Train Loss: 0.017654\n",
      "Epoch: 17000 Train Loss: 0.006823 L2-Train Loss: 0.016673\n",
      "Epoch: 18000 Train Loss: 0.005784 L2-Train Loss: 0.015724\n",
      "Epoch: 19000 Train Loss: 0.007584 L2-Train Loss: 0.018478\n"
     ]
    },
    {
     "name": "stderr",
     "output_type": "stream",
     "text": [
      "\r",
      " 40%|█████████████████████████████████▏                                                 | 4/10 [03:29<05:14, 52.49s/it]"
     ]
    },
    {
     "name": "stdout",
     "output_type": "stream",
     "text": [
      "Epoch: 20000 Train Loss: 0.008834 L2-Train Loss: 0.019732\n",
      "Epoch: 1 Train Loss: 0.729465 L2-Train Loss: 0.730435\n",
      "Epoch: 1000 Train Loss: 0.064339 L2-Train Loss: 0.066775\n",
      "Epoch: 2000 Train Loss: 0.029392 L2-Train Loss: 0.032759\n",
      "Epoch: 3000 Train Loss: 0.018558 L2-Train Loss: 0.022848\n",
      "Epoch: 4000 Train Loss: 0.013303 L2-Train Loss: 0.018469\n",
      "Epoch: 5000 Train Loss: 0.013081 L2-Train Loss: 0.019134\n",
      "Epoch: 6000 Train Loss: 0.009212 L2-Train Loss: 0.015631\n",
      "Epoch: 7000 Train Loss: 0.009510 L2-Train Loss: 0.016903\n",
      "Epoch: 8000 Train Loss: 0.007929 L2-Train Loss: 0.015924\n",
      "Epoch: 9000 Train Loss: 0.006815 L2-Train Loss: 0.015052\n",
      "Epoch: 10000 Train Loss: 0.006347 L2-Train Loss: 0.015232\n",
      "Epoch: 11000 Train Loss: 0.006301 L2-Train Loss: 0.015790\n",
      "Epoch: 12000 Train Loss: 0.007740 L2-Train Loss: 0.017981\n",
      "Epoch: 13000 Train Loss: 0.010927 L2-Train Loss: 0.021360\n",
      "Epoch: 14000 Train Loss: 0.006242 L2-Train Loss: 0.017072\n",
      "Epoch: 15000 Train Loss: 0.006582 L2-Train Loss: 0.017774\n",
      "Epoch: 16000 Train Loss: 0.007760 L2-Train Loss: 0.019408\n",
      "Epoch: 17000 Train Loss: 0.007185 L2-Train Loss: 0.019398\n",
      "Epoch: 18000 Train Loss: 0.007025 L2-Train Loss: 0.019951\n",
      "Epoch: 19000 Train Loss: 0.006255 L2-Train Loss: 0.019500\n"
     ]
    },
    {
     "name": "stderr",
     "output_type": "stream",
     "text": [
      "\r",
      " 50%|█████████████████████████████████████████▌                                         | 5/10 [04:21<04:22, 52.42s/it]"
     ]
    },
    {
     "name": "stdout",
     "output_type": "stream",
     "text": [
      "Epoch: 20000 Train Loss: 0.008274 L2-Train Loss: 0.021825\n",
      "Epoch: 1 Train Loss: 0.427526 L2-Train Loss: 0.428426\n",
      "Epoch: 1000 Train Loss: 0.109685 L2-Train Loss: 0.111703\n",
      "Epoch: 2000 Train Loss: 0.023958 L2-Train Loss: 0.027210\n",
      "Epoch: 3000 Train Loss: 0.015823 L2-Train Loss: 0.019883\n",
      "Epoch: 4000 Train Loss: 0.015186 L2-Train Loss: 0.019873\n",
      "Epoch: 5000 Train Loss: 0.014989 L2-Train Loss: 0.020312\n",
      "Epoch: 6000 Train Loss: 0.013061 L2-Train Loss: 0.018790\n",
      "Epoch: 7000 Train Loss: 0.010014 L2-Train Loss: 0.016497\n",
      "Epoch: 8000 Train Loss: 0.010994 L2-Train Loss: 0.017567\n",
      "Epoch: 9000 Train Loss: 0.008848 L2-Train Loss: 0.015872\n",
      "Epoch: 10000 Train Loss: 0.007266 L2-Train Loss: 0.014582\n",
      "Epoch: 11000 Train Loss: 0.005718 L2-Train Loss: 0.013830\n",
      "Epoch: 12000 Train Loss: 0.007169 L2-Train Loss: 0.015683\n",
      "Epoch: 13000 Train Loss: 0.008310 L2-Train Loss: 0.017336\n",
      "Epoch: 14000 Train Loss: 0.009321 L2-Train Loss: 0.018694\n",
      "Epoch: 15000 Train Loss: 0.008391 L2-Train Loss: 0.018457\n",
      "Epoch: 16000 Train Loss: 0.008338 L2-Train Loss: 0.018580\n",
      "Epoch: 17000 Train Loss: 0.010685 L2-Train Loss: 0.021263\n",
      "Epoch: 18000 Train Loss: 0.008201 L2-Train Loss: 0.019258\n",
      "Epoch: 19000 Train Loss: 0.008672 L2-Train Loss: 0.020550\n"
     ]
    },
    {
     "name": "stderr",
     "output_type": "stream",
     "text": [
      "\r",
      " 60%|█████████████████████████████████████████████████▊                                 | 6/10 [05:13<03:28, 52.17s/it]"
     ]
    },
    {
     "name": "stdout",
     "output_type": "stream",
     "text": [
      "Epoch: 20000 Train Loss: 0.009638 L2-Train Loss: 0.021815\n",
      "Epoch: 1 Train Loss: 0.573967 L2-Train Loss: 0.574980\n",
      "Epoch: 1000 Train Loss: 0.077662 L2-Train Loss: 0.080073\n",
      "Epoch: 2000 Train Loss: 0.029196 L2-Train Loss: 0.032797\n",
      "Epoch: 3000 Train Loss: 0.021407 L2-Train Loss: 0.025618\n",
      "Epoch: 4000 Train Loss: 0.022284 L2-Train Loss: 0.027088\n",
      "Epoch: 5000 Train Loss: 0.021695 L2-Train Loss: 0.026900\n",
      "Epoch: 6000 Train Loss: 0.017478 L2-Train Loss: 0.023457\n",
      "Epoch: 7000 Train Loss: 0.013763 L2-Train Loss: 0.020536\n",
      "Epoch: 8000 Train Loss: 0.014486 L2-Train Loss: 0.021872\n",
      "Epoch: 9000 Train Loss: 0.008098 L2-Train Loss: 0.015922\n",
      "Epoch: 10000 Train Loss: 0.007406 L2-Train Loss: 0.015542\n",
      "Epoch: 11000 Train Loss: 0.009799 L2-Train Loss: 0.018231\n",
      "Epoch: 12000 Train Loss: 0.007658 L2-Train Loss: 0.016223\n",
      "Epoch: 13000 Train Loss: 0.007478 L2-Train Loss: 0.016576\n",
      "Epoch: 14000 Train Loss: 0.005651 L2-Train Loss: 0.015304\n",
      "Epoch: 15000 Train Loss: 0.005318 L2-Train Loss: 0.015350\n",
      "Epoch: 16000 Train Loss: 0.006480 L2-Train Loss: 0.017152\n",
      "Epoch: 17000 Train Loss: 0.005145 L2-Train Loss: 0.015986\n",
      "Epoch: 18000 Train Loss: 0.005969 L2-Train Loss: 0.017071\n",
      "Epoch: 19000 Train Loss: 0.007623 L2-Train Loss: 0.019068\n"
     ]
    },
    {
     "name": "stderr",
     "output_type": "stream",
     "text": [
      "\r",
      " 70%|██████████████████████████████████████████████████████████                         | 7/10 [06:04<02:35, 51.82s/it]"
     ]
    },
    {
     "name": "stdout",
     "output_type": "stream",
     "text": [
      "Epoch: 20000 Train Loss: 0.008173 L2-Train Loss: 0.020000\n",
      "Epoch: 1 Train Loss: 0.538153 L2-Train Loss: 0.539000\n",
      "Epoch: 1000 Train Loss: 0.060432 L2-Train Loss: 0.062660\n",
      "Epoch: 2000 Train Loss: 0.027842 L2-Train Loss: 0.031183\n",
      "Epoch: 3000 Train Loss: 0.021507 L2-Train Loss: 0.025724\n",
      "Epoch: 4000 Train Loss: 0.014516 L2-Train Loss: 0.019316\n",
      "Epoch: 5000 Train Loss: 0.015478 L2-Train Loss: 0.021013\n",
      "Epoch: 6000 Train Loss: 0.010834 L2-Train Loss: 0.016762\n",
      "Epoch: 7000 Train Loss: 0.008991 L2-Train Loss: 0.015440\n",
      "Epoch: 8000 Train Loss: 0.010393 L2-Train Loss: 0.017268\n",
      "Epoch: 9000 Train Loss: 0.010774 L2-Train Loss: 0.017982\n",
      "Epoch: 10000 Train Loss: 0.009180 L2-Train Loss: 0.016676\n",
      "Epoch: 11000 Train Loss: 0.006711 L2-Train Loss: 0.015078\n",
      "Epoch: 12000 Train Loss: 0.007242 L2-Train Loss: 0.015621\n",
      "Epoch: 13000 Train Loss: 0.006309 L2-Train Loss: 0.014756\n",
      "Epoch: 14000 Train Loss: 0.011216 L2-Train Loss: 0.020207\n",
      "Epoch: 15000 Train Loss: 0.007369 L2-Train Loss: 0.016680\n",
      "Epoch: 16000 Train Loss: 0.008295 L2-Train Loss: 0.018223\n",
      "Epoch: 17000 Train Loss: 0.006793 L2-Train Loss: 0.017192\n",
      "Epoch: 18000 Train Loss: 0.006461 L2-Train Loss: 0.017247\n",
      "Epoch: 19000 Train Loss: 0.006207 L2-Train Loss: 0.017274\n"
     ]
    },
    {
     "name": "stderr",
     "output_type": "stream",
     "text": [
      "\r",
      " 80%|██████████████████████████████████████████████████████████████████▍                | 8/10 [06:56<01:43, 51.83s/it]"
     ]
    },
    {
     "name": "stdout",
     "output_type": "stream",
     "text": [
      "Epoch: 20000 Train Loss: 0.006021 L2-Train Loss: 0.017723\n",
      "Epoch: 1 Train Loss: 0.508220 L2-Train Loss: 0.509303\n",
      "Epoch: 1000 Train Loss: 0.082547 L2-Train Loss: 0.085016\n",
      "Epoch: 2000 Train Loss: 0.027047 L2-Train Loss: 0.030651\n",
      "Epoch: 3000 Train Loss: 0.018012 L2-Train Loss: 0.022360\n",
      "Epoch: 4000 Train Loss: 0.018245 L2-Train Loss: 0.023192\n",
      "Epoch: 5000 Train Loss: 0.011072 L2-Train Loss: 0.016662\n",
      "Epoch: 6000 Train Loss: 0.012631 L2-Train Loss: 0.018602\n",
      "Epoch: 7000 Train Loss: 0.010312 L2-Train Loss: 0.016739\n",
      "Epoch: 8000 Train Loss: 0.012558 L2-Train Loss: 0.019441\n",
      "Epoch: 9000 Train Loss: 0.009017 L2-Train Loss: 0.016370\n",
      "Epoch: 10000 Train Loss: 0.007210 L2-Train Loss: 0.015511\n",
      "Epoch: 11000 Train Loss: 0.005912 L2-Train Loss: 0.014164\n",
      "Epoch: 12000 Train Loss: 0.010977 L2-Train Loss: 0.019385\n",
      "Epoch: 13000 Train Loss: 0.007668 L2-Train Loss: 0.016461\n",
      "Epoch: 14000 Train Loss: 0.006968 L2-Train Loss: 0.016480\n",
      "Epoch: 15000 Train Loss: 0.007257 L2-Train Loss: 0.017480\n",
      "Epoch: 16000 Train Loss: 0.005950 L2-Train Loss: 0.016747\n",
      "Epoch: 17000 Train Loss: 0.008649 L2-Train Loss: 0.019775\n",
      "Epoch: 18000 Train Loss: 0.008179 L2-Train Loss: 0.019507\n",
      "Epoch: 19000 Train Loss: 0.009055 L2-Train Loss: 0.020545\n"
     ]
    },
    {
     "name": "stderr",
     "output_type": "stream",
     "text": [
      "\r",
      " 90%|██████████████████████████████████████████████████████████████████████████▋        | 9/10 [07:47<00:51, 51.82s/it]"
     ]
    },
    {
     "name": "stdout",
     "output_type": "stream",
     "text": [
      "Epoch: 20000 Train Loss: 0.008552 L2-Train Loss: 0.020384\n",
      "Epoch: 1 Train Loss: 0.612023 L2-Train Loss: 0.612840\n",
      "Epoch: 1000 Train Loss: 0.089747 L2-Train Loss: 0.091847\n",
      "Epoch: 2000 Train Loss: 0.031198 L2-Train Loss: 0.034397\n",
      "Epoch: 3000 Train Loss: 0.018717 L2-Train Loss: 0.022747\n",
      "Epoch: 4000 Train Loss: 0.016562 L2-Train Loss: 0.021279\n",
      "Epoch: 5000 Train Loss: 0.017283 L2-Train Loss: 0.022385\n",
      "Epoch: 6000 Train Loss: 0.014501 L2-Train Loss: 0.019831\n",
      "Epoch: 7000 Train Loss: 0.012238 L2-Train Loss: 0.018046\n",
      "Epoch: 8000 Train Loss: 0.013703 L2-Train Loss: 0.020172\n",
      "Epoch: 9000 Train Loss: 0.010892 L2-Train Loss: 0.018089\n",
      "Epoch: 10000 Train Loss: 0.006109 L2-Train Loss: 0.013669\n",
      "Epoch: 11000 Train Loss: 0.012041 L2-Train Loss: 0.019878\n",
      "Epoch: 12000 Train Loss: 0.009149 L2-Train Loss: 0.017572\n",
      "Epoch: 13000 Train Loss: 0.005818 L2-Train Loss: 0.014717\n",
      "Epoch: 14000 Train Loss: 0.006450 L2-Train Loss: 0.015507\n",
      "Epoch: 15000 Train Loss: 0.005536 L2-Train Loss: 0.015036\n",
      "Epoch: 16000 Train Loss: 0.006516 L2-Train Loss: 0.016099\n",
      "Epoch: 17000 Train Loss: 0.006337 L2-Train Loss: 0.016227\n",
      "Epoch: 18000 Train Loss: 0.005436 L2-Train Loss: 0.015634\n",
      "Epoch: 19000 Train Loss: 0.008215 L2-Train Loss: 0.018515\n"
     ]
    },
    {
     "name": "stderr",
     "output_type": "stream",
     "text": [
      "100%|██████████████████████████████████████████████████████████████████████████████████| 10/10 [08:40<00:00, 52.01s/it]\n"
     ]
    },
    {
     "name": "stdout",
     "output_type": "stream",
     "text": [
      "Epoch: 20000 Train Loss: 0.005432 L2-Train Loss: 0.015935\n",
      "Finish test particle_num=64 cutoff = 100.00 avg_trainloss=7.970e-03 avg_L2_trainloss=1.977e-02\n"
     ]
    },
    {
     "name": "stderr",
     "output_type": "stream",
     "text": [
      "\r",
      "  0%|                                                                                           | 0/10 [00:00<?, ?it/s]"
     ]
    },
    {
     "name": "stdout",
     "output_type": "stream",
     "text": [
      "Epoch: 1 Train Loss: 0.571520 L2-Train Loss: 0.572560\n",
      "Epoch: 1000 Train Loss: 0.084806 L2-Train Loss: 0.087080\n",
      "Epoch: 2000 Train Loss: 0.028942 L2-Train Loss: 0.032342\n",
      "Epoch: 3000 Train Loss: 0.017880 L2-Train Loss: 0.022129\n",
      "Epoch: 4000 Train Loss: 0.014086 L2-Train Loss: 0.019030\n",
      "Epoch: 5000 Train Loss: 0.009776 L2-Train Loss: 0.015285\n",
      "Epoch: 6000 Train Loss: 0.007721 L2-Train Loss: 0.013918\n",
      "Epoch: 7000 Train Loss: 0.006705 L2-Train Loss: 0.013194\n",
      "Epoch: 8000 Train Loss: 0.004596 L2-Train Loss: 0.011651\n",
      "Epoch: 9000 Train Loss: 0.004297 L2-Train Loss: 0.011799\n",
      "Epoch: 10000 Train Loss: 0.004860 L2-Train Loss: 0.012890\n",
      "Epoch: 11000 Train Loss: 0.004675 L2-Train Loss: 0.013452\n",
      "Epoch: 12000 Train Loss: 0.004613 L2-Train Loss: 0.013938\n",
      "Epoch: 13000 Train Loss: 0.006733 L2-Train Loss: 0.016669\n",
      "Epoch: 14000 Train Loss: 0.005133 L2-Train Loss: 0.015351\n",
      "Epoch: 15000 Train Loss: 0.005302 L2-Train Loss: 0.016014\n",
      "Epoch: 16000 Train Loss: 0.004435 L2-Train Loss: 0.015679\n",
      "Epoch: 17000 Train Loss: 0.003083 L2-Train Loss: 0.014681\n",
      "Epoch: 18000 Train Loss: 0.005098 L2-Train Loss: 0.016957\n",
      "Epoch: 19000 Train Loss: 0.004765 L2-Train Loss: 0.017210\n"
     ]
    },
    {
     "name": "stderr",
     "output_type": "stream",
     "text": [
      "\r",
      " 10%|████████▎                                                                          | 1/10 [00:51<07:45, 51.70s/it]"
     ]
    },
    {
     "name": "stdout",
     "output_type": "stream",
     "text": [
      "Epoch: 20000 Train Loss: 0.004488 L2-Train Loss: 0.017250\n",
      "Epoch: 1 Train Loss: 0.652482 L2-Train Loss: 0.653451\n",
      "Epoch: 1000 Train Loss: 0.080200 L2-Train Loss: 0.082461\n",
      "Epoch: 2000 Train Loss: 0.030341 L2-Train Loss: 0.033571\n",
      "Epoch: 3000 Train Loss: 0.019358 L2-Train Loss: 0.023402\n",
      "Epoch: 4000 Train Loss: 0.017235 L2-Train Loss: 0.021899\n",
      "Epoch: 5000 Train Loss: 0.011938 L2-Train Loss: 0.017673\n",
      "Epoch: 6000 Train Loss: 0.009158 L2-Train Loss: 0.015392\n",
      "Epoch: 7000 Train Loss: 0.010026 L2-Train Loss: 0.016860\n",
      "Epoch: 8000 Train Loss: 0.005659 L2-Train Loss: 0.013035\n",
      "Epoch: 9000 Train Loss: 0.005069 L2-Train Loss: 0.012816\n",
      "Epoch: 10000 Train Loss: 0.006887 L2-Train Loss: 0.015153\n",
      "Epoch: 11000 Train Loss: 0.004976 L2-Train Loss: 0.013731\n",
      "Epoch: 12000 Train Loss: 0.005029 L2-Train Loss: 0.014395\n",
      "Epoch: 13000 Train Loss: 0.004581 L2-Train Loss: 0.014335\n",
      "Epoch: 14000 Train Loss: 0.004643 L2-Train Loss: 0.014494\n",
      "Epoch: 15000 Train Loss: 0.004578 L2-Train Loss: 0.014741\n",
      "Epoch: 16000 Train Loss: 0.004842 L2-Train Loss: 0.015471\n",
      "Epoch: 17000 Train Loss: 0.003908 L2-Train Loss: 0.014940\n",
      "Epoch: 18000 Train Loss: 0.005024 L2-Train Loss: 0.016739\n",
      "Epoch: 19000 Train Loss: 0.005280 L2-Train Loss: 0.017724\n"
     ]
    },
    {
     "name": "stderr",
     "output_type": "stream",
     "text": [
      "\r",
      " 20%|████████████████▌                                                                  | 2/10 [01:43<06:52, 51.58s/it]"
     ]
    },
    {
     "name": "stdout",
     "output_type": "stream",
     "text": [
      "Epoch: 20000 Train Loss: 0.005355 L2-Train Loss: 0.018344\n",
      "Epoch: 1 Train Loss: 0.586148 L2-Train Loss: 0.587134\n",
      "Epoch: 1000 Train Loss: 0.078250 L2-Train Loss: 0.080596\n",
      "Epoch: 2000 Train Loss: 0.021046 L2-Train Loss: 0.024638\n",
      "Epoch: 3000 Train Loss: 0.014745 L2-Train Loss: 0.019016\n",
      "Epoch: 4000 Train Loss: 0.011529 L2-Train Loss: 0.016340\n",
      "Epoch: 5000 Train Loss: 0.010423 L2-Train Loss: 0.015783\n",
      "Epoch: 6000 Train Loss: 0.007658 L2-Train Loss: 0.013477\n",
      "Epoch: 7000 Train Loss: 0.007714 L2-Train Loss: 0.014070\n",
      "Epoch: 8000 Train Loss: 0.005894 L2-Train Loss: 0.012732\n",
      "Epoch: 9000 Train Loss: 0.006473 L2-Train Loss: 0.014043\n",
      "Epoch: 10000 Train Loss: 0.004534 L2-Train Loss: 0.012710\n",
      "Epoch: 11000 Train Loss: 0.003494 L2-Train Loss: 0.012071\n",
      "Epoch: 12000 Train Loss: 0.005862 L2-Train Loss: 0.015175\n",
      "Epoch: 13000 Train Loss: 0.005025 L2-Train Loss: 0.014848\n",
      "Epoch: 14000 Train Loss: 0.005291 L2-Train Loss: 0.015329\n",
      "Epoch: 15000 Train Loss: 0.005020 L2-Train Loss: 0.015453\n",
      "Epoch: 16000 Train Loss: 0.003882 L2-Train Loss: 0.014652\n",
      "Epoch: 17000 Train Loss: 0.003952 L2-Train Loss: 0.015160\n",
      "Epoch: 18000 Train Loss: 0.004600 L2-Train Loss: 0.016167\n",
      "Epoch: 19000 Train Loss: 0.003122 L2-Train Loss: 0.015057\n"
     ]
    },
    {
     "name": "stderr",
     "output_type": "stream",
     "text": [
      "\r",
      " 30%|████████████████████████▉                                                          | 3/10 [02:34<06:01, 51.65s/it]"
     ]
    },
    {
     "name": "stdout",
     "output_type": "stream",
     "text": [
      "Epoch: 20000 Train Loss: 0.003284 L2-Train Loss: 0.015302\n",
      "Epoch: 1 Train Loss: 0.562291 L2-Train Loss: 0.563337\n",
      "Epoch: 1000 Train Loss: 0.074085 L2-Train Loss: 0.076318\n",
      "Epoch: 2000 Train Loss: 0.026254 L2-Train Loss: 0.029576\n",
      "Epoch: 3000 Train Loss: 0.016339 L2-Train Loss: 0.020448\n",
      "Epoch: 4000 Train Loss: 0.015654 L2-Train Loss: 0.020311\n",
      "Epoch: 5000 Train Loss: 0.011962 L2-Train Loss: 0.017277\n",
      "Epoch: 6000 Train Loss: 0.009514 L2-Train Loss: 0.015282\n",
      "Epoch: 7000 Train Loss: 0.008058 L2-Train Loss: 0.014333\n",
      "Epoch: 8000 Train Loss: 0.007339 L2-Train Loss: 0.014265\n",
      "Epoch: 9000 Train Loss: 0.004888 L2-Train Loss: 0.012498\n",
      "Epoch: 10000 Train Loss: 0.004508 L2-Train Loss: 0.012519\n",
      "Epoch: 11000 Train Loss: 0.005883 L2-Train Loss: 0.014106\n",
      "Epoch: 12000 Train Loss: 0.005154 L2-Train Loss: 0.013946\n",
      "Epoch: 13000 Train Loss: 0.004584 L2-Train Loss: 0.013671\n",
      "Epoch: 14000 Train Loss: 0.005361 L2-Train Loss: 0.015094\n",
      "Epoch: 15000 Train Loss: 0.005009 L2-Train Loss: 0.015163\n",
      "Epoch: 16000 Train Loss: 0.005191 L2-Train Loss: 0.015620\n",
      "Epoch: 17000 Train Loss: 0.003145 L2-Train Loss: 0.014434\n",
      "Epoch: 18000 Train Loss: 0.006845 L2-Train Loss: 0.018690\n",
      "Epoch: 19000 Train Loss: 0.004065 L2-Train Loss: 0.016277\n"
     ]
    },
    {
     "name": "stderr",
     "output_type": "stream",
     "text": [
      "\r",
      " 40%|█████████████████████████████████▏                                                 | 4/10 [03:26<05:09, 51.50s/it]"
     ]
    },
    {
     "name": "stdout",
     "output_type": "stream",
     "text": [
      "Epoch: 20000 Train Loss: 0.003946 L2-Train Loss: 0.016925\n",
      "Epoch: 1 Train Loss: 0.667122 L2-Train Loss: 0.668084\n",
      "Epoch: 1000 Train Loss: 0.069045 L2-Train Loss: 0.071439\n",
      "Epoch: 2000 Train Loss: 0.031050 L2-Train Loss: 0.034413\n",
      "Epoch: 3000 Train Loss: 0.019737 L2-Train Loss: 0.024001\n",
      "Epoch: 4000 Train Loss: 0.016243 L2-Train Loss: 0.021084\n",
      "Epoch: 5000 Train Loss: 0.012238 L2-Train Loss: 0.017613\n",
      "Epoch: 6000 Train Loss: 0.010490 L2-Train Loss: 0.016658\n",
      "Epoch: 7000 Train Loss: 0.009695 L2-Train Loss: 0.016331\n",
      "Epoch: 8000 Train Loss: 0.010183 L2-Train Loss: 0.017399\n",
      "Epoch: 9000 Train Loss: 0.007867 L2-Train Loss: 0.015692\n",
      "Epoch: 10000 Train Loss: 0.005753 L2-Train Loss: 0.013963\n",
      "Epoch: 11000 Train Loss: 0.004401 L2-Train Loss: 0.013268\n",
      "Epoch: 12000 Train Loss: 0.003564 L2-Train Loss: 0.012915\n",
      "Epoch: 13000 Train Loss: 0.003775 L2-Train Loss: 0.013571\n",
      "Epoch: 14000 Train Loss: 0.005889 L2-Train Loss: 0.016194\n",
      "Epoch: 15000 Train Loss: 0.004979 L2-Train Loss: 0.015587\n",
      "Epoch: 16000 Train Loss: 0.004680 L2-Train Loss: 0.015801\n",
      "Epoch: 17000 Train Loss: 0.005484 L2-Train Loss: 0.017031\n",
      "Epoch: 18000 Train Loss: 0.003733 L2-Train Loss: 0.015728\n",
      "Epoch: 19000 Train Loss: 0.004088 L2-Train Loss: 0.016739\n"
     ]
    },
    {
     "name": "stderr",
     "output_type": "stream",
     "text": [
      "\r",
      " 50%|█████████████████████████████████████████▌                                         | 5/10 [04:17<04:17, 51.59s/it]"
     ]
    },
    {
     "name": "stdout",
     "output_type": "stream",
     "text": [
      "Epoch: 20000 Train Loss: 0.004142 L2-Train Loss: 0.017007\n",
      "Epoch: 1 Train Loss: 0.547384 L2-Train Loss: 0.548339\n",
      "Epoch: 1000 Train Loss: 0.074387 L2-Train Loss: 0.076767\n",
      "Epoch: 2000 Train Loss: 0.032537 L2-Train Loss: 0.035895\n",
      "Epoch: 3000 Train Loss: 0.021872 L2-Train Loss: 0.026117\n",
      "Epoch: 4000 Train Loss: 0.017930 L2-Train Loss: 0.022788\n",
      "Epoch: 5000 Train Loss: 0.014521 L2-Train Loss: 0.019875\n",
      "Epoch: 6000 Train Loss: 0.012846 L2-Train Loss: 0.018744\n",
      "Epoch: 7000 Train Loss: 0.009938 L2-Train Loss: 0.016353\n",
      "Epoch: 8000 Train Loss: 0.006191 L2-Train Loss: 0.013163\n",
      "Epoch: 9000 Train Loss: 0.005145 L2-Train Loss: 0.012879\n",
      "Epoch: 10000 Train Loss: 0.004404 L2-Train Loss: 0.012286\n",
      "Epoch: 11000 Train Loss: 0.003829 L2-Train Loss: 0.011954\n",
      "Epoch: 12000 Train Loss: 0.004224 L2-Train Loss: 0.013019\n",
      "Epoch: 13000 Train Loss: 0.005993 L2-Train Loss: 0.015375\n",
      "Epoch: 14000 Train Loss: 0.006320 L2-Train Loss: 0.015959\n",
      "Epoch: 15000 Train Loss: 0.005700 L2-Train Loss: 0.015684\n",
      "Epoch: 16000 Train Loss: 0.003906 L2-Train Loss: 0.014238\n",
      "Epoch: 17000 Train Loss: 0.004397 L2-Train Loss: 0.014607\n",
      "Epoch: 18000 Train Loss: 0.004408 L2-Train Loss: 0.015215\n",
      "Epoch: 19000 Train Loss: 0.005322 L2-Train Loss: 0.016429\n"
     ]
    },
    {
     "name": "stderr",
     "output_type": "stream",
     "text": [
      "\r",
      " 60%|█████████████████████████████████████████████████▊                                 | 6/10 [05:09<03:25, 51.48s/it]"
     ]
    },
    {
     "name": "stdout",
     "output_type": "stream",
     "text": [
      "Epoch: 20000 Train Loss: 0.004328 L2-Train Loss: 0.016019\n",
      "Epoch: 1 Train Loss: 0.552933 L2-Train Loss: 0.553914\n",
      "Epoch: 1000 Train Loss: 0.088941 L2-Train Loss: 0.091186\n",
      "Epoch: 2000 Train Loss: 0.028839 L2-Train Loss: 0.032159\n",
      "Epoch: 3000 Train Loss: 0.018850 L2-Train Loss: 0.022908\n",
      "Epoch: 4000 Train Loss: 0.016254 L2-Train Loss: 0.020997\n",
      "Epoch: 5000 Train Loss: 0.012334 L2-Train Loss: 0.017715\n",
      "Epoch: 6000 Train Loss: 0.007499 L2-Train Loss: 0.013301\n",
      "Epoch: 7000 Train Loss: 0.009110 L2-Train Loss: 0.015473\n",
      "Epoch: 8000 Train Loss: 0.006505 L2-Train Loss: 0.013187\n",
      "Epoch: 9000 Train Loss: 0.007081 L2-Train Loss: 0.014333\n",
      "Epoch: 10000 Train Loss: 0.005779 L2-Train Loss: 0.013606\n",
      "Epoch: 11000 Train Loss: 0.007412 L2-Train Loss: 0.015643\n",
      "Epoch: 12000 Train Loss: 0.007063 L2-Train Loss: 0.015733\n",
      "Epoch: 13000 Train Loss: 0.006014 L2-Train Loss: 0.015459\n",
      "Epoch: 14000 Train Loss: 0.004606 L2-Train Loss: 0.014470\n",
      "Epoch: 15000 Train Loss: 0.005481 L2-Train Loss: 0.015790\n",
      "Epoch: 16000 Train Loss: 0.005232 L2-Train Loss: 0.015944\n",
      "Epoch: 17000 Train Loss: 0.005387 L2-Train Loss: 0.016553\n",
      "Epoch: 18000 Train Loss: 0.003310 L2-Train Loss: 0.014985\n",
      "Epoch: 19000 Train Loss: 0.006561 L2-Train Loss: 0.018566\n"
     ]
    },
    {
     "name": "stderr",
     "output_type": "stream",
     "text": [
      "\r",
      " 70%|██████████████████████████████████████████████████████████                         | 7/10 [06:00<02:34, 51.47s/it]"
     ]
    },
    {
     "name": "stdout",
     "output_type": "stream",
     "text": [
      "Epoch: 20000 Train Loss: 0.005508 L2-Train Loss: 0.017930\n",
      "Epoch: 1 Train Loss: 0.525244 L2-Train Loss: 0.526287\n",
      "Epoch: 1000 Train Loss: 0.060827 L2-Train Loss: 0.063256\n",
      "Epoch: 2000 Train Loss: 0.025777 L2-Train Loss: 0.029312\n",
      "Epoch: 3000 Train Loss: 0.020166 L2-Train Loss: 0.024288\n",
      "Epoch: 4000 Train Loss: 0.016128 L2-Train Loss: 0.020861\n",
      "Epoch: 5000 Train Loss: 0.013472 L2-Train Loss: 0.018814\n",
      "Epoch: 6000 Train Loss: 0.011216 L2-Train Loss: 0.017177\n",
      "Epoch: 7000 Train Loss: 0.006311 L2-Train Loss: 0.012935\n",
      "Epoch: 8000 Train Loss: 0.006326 L2-Train Loss: 0.013719\n",
      "Epoch: 9000 Train Loss: 0.005781 L2-Train Loss: 0.013912\n",
      "Epoch: 10000 Train Loss: 0.005170 L2-Train Loss: 0.013872\n",
      "Epoch: 11000 Train Loss: 0.006150 L2-Train Loss: 0.015369\n",
      "Epoch: 12000 Train Loss: 0.005045 L2-Train Loss: 0.014813\n",
      "Epoch: 13000 Train Loss: 0.004534 L2-Train Loss: 0.014656\n",
      "Epoch: 14000 Train Loss: 0.004155 L2-Train Loss: 0.014730\n",
      "Epoch: 15000 Train Loss: 0.005989 L2-Train Loss: 0.016833\n",
      "Epoch: 16000 Train Loss: 0.003827 L2-Train Loss: 0.015147\n",
      "Epoch: 17000 Train Loss: 0.004277 L2-Train Loss: 0.015883\n",
      "Epoch: 18000 Train Loss: 0.006248 L2-Train Loss: 0.018388\n",
      "Epoch: 19000 Train Loss: 0.005768 L2-Train Loss: 0.018538\n"
     ]
    },
    {
     "name": "stderr",
     "output_type": "stream",
     "text": [
      "\r",
      " 80%|██████████████████████████████████████████████████████████████████▍                | 8/10 [06:52<01:43, 51.55s/it]"
     ]
    },
    {
     "name": "stdout",
     "output_type": "stream",
     "text": [
      "Epoch: 20000 Train Loss: 0.004693 L2-Train Loss: 0.017821\n",
      "Epoch: 1 Train Loss: 0.544190 L2-Train Loss: 0.545172\n",
      "Epoch: 1000 Train Loss: 0.077277 L2-Train Loss: 0.079636\n",
      "Epoch: 2000 Train Loss: 0.029565 L2-Train Loss: 0.032987\n",
      "Epoch: 3000 Train Loss: 0.020897 L2-Train Loss: 0.024960\n",
      "Epoch: 4000 Train Loss: 0.017771 L2-Train Loss: 0.022554\n",
      "Epoch: 5000 Train Loss: 0.012842 L2-Train Loss: 0.018286\n",
      "Epoch: 6000 Train Loss: 0.012778 L2-Train Loss: 0.018699\n",
      "Epoch: 7000 Train Loss: 0.012741 L2-Train Loss: 0.019030\n",
      "Epoch: 8000 Train Loss: 0.008467 L2-Train Loss: 0.015451\n",
      "Epoch: 9000 Train Loss: 0.007715 L2-Train Loss: 0.015199\n",
      "Epoch: 10000 Train Loss: 0.004744 L2-Train Loss: 0.012444\n",
      "Epoch: 11000 Train Loss: 0.007065 L2-Train Loss: 0.015567\n",
      "Epoch: 12000 Train Loss: 0.005907 L2-Train Loss: 0.014883\n",
      "Epoch: 13000 Train Loss: 0.004734 L2-Train Loss: 0.014124\n",
      "Epoch: 14000 Train Loss: 0.004056 L2-Train Loss: 0.013951\n",
      "Epoch: 15000 Train Loss: 0.005198 L2-Train Loss: 0.015617\n",
      "Epoch: 16000 Train Loss: 0.003828 L2-Train Loss: 0.014658\n",
      "Epoch: 17000 Train Loss: 0.005486 L2-Train Loss: 0.016913\n",
      "Epoch: 18000 Train Loss: 0.004672 L2-Train Loss: 0.016348\n",
      "Epoch: 19000 Train Loss: 0.004206 L2-Train Loss: 0.016295\n"
     ]
    },
    {
     "name": "stderr",
     "output_type": "stream",
     "text": [
      "\r",
      " 90%|██████████████████████████████████████████████████████████████████████████▋        | 9/10 [07:43<00:51, 51.56s/it]"
     ]
    },
    {
     "name": "stdout",
     "output_type": "stream",
     "text": [
      "Epoch: 20000 Train Loss: 0.005271 L2-Train Loss: 0.017706\n",
      "Epoch: 1 Train Loss: 0.502864 L2-Train Loss: 0.503745\n",
      "Epoch: 1000 Train Loss: 0.080608 L2-Train Loss: 0.082854\n",
      "Epoch: 2000 Train Loss: 0.030790 L2-Train Loss: 0.034040\n",
      "Epoch: 3000 Train Loss: 0.022492 L2-Train Loss: 0.026462\n",
      "Epoch: 4000 Train Loss: 0.016631 L2-Train Loss: 0.021300\n",
      "Epoch: 5000 Train Loss: 0.012369 L2-Train Loss: 0.017668\n",
      "Epoch: 6000 Train Loss: 0.010310 L2-Train Loss: 0.016190\n",
      "Epoch: 7000 Train Loss: 0.008567 L2-Train Loss: 0.014981\n",
      "Epoch: 8000 Train Loss: 0.006738 L2-Train Loss: 0.013844\n",
      "Epoch: 9000 Train Loss: 0.004945 L2-Train Loss: 0.012646\n",
      "Epoch: 10000 Train Loss: 0.004942 L2-Train Loss: 0.013232\n",
      "Epoch: 11000 Train Loss: 0.004220 L2-Train Loss: 0.012953\n",
      "Epoch: 12000 Train Loss: 0.002928 L2-Train Loss: 0.011867\n",
      "Epoch: 13000 Train Loss: 0.003078 L2-Train Loss: 0.012385\n",
      "Epoch: 14000 Train Loss: 0.003498 L2-Train Loss: 0.013286\n",
      "Epoch: 15000 Train Loss: 0.004731 L2-Train Loss: 0.014900\n",
      "Epoch: 16000 Train Loss: 0.003030 L2-Train Loss: 0.013417\n",
      "Epoch: 17000 Train Loss: 0.003932 L2-Train Loss: 0.014974\n",
      "Epoch: 18000 Train Loss: 0.003620 L2-Train Loss: 0.015189\n",
      "Epoch: 19000 Train Loss: 0.003817 L2-Train Loss: 0.015498\n"
     ]
    },
    {
     "name": "stderr",
     "output_type": "stream",
     "text": [
      "100%|██████████████████████████████████████████████████████████████████████████████████| 10/10 [08:35<00:00, 51.54s/it]\n"
     ]
    },
    {
     "name": "stdout",
     "output_type": "stream",
     "text": [
      "Epoch: 20000 Train Loss: 0.004153 L2-Train Loss: 0.016437\n",
      "Finish test particle_num=128 cutoff = 100.00 avg_trainloss=4.629e-03 avg_L2_trainloss=1.710e-02\n"
     ]
    },
    {
     "name": "stderr",
     "output_type": "stream",
     "text": [
      "\r",
      "  0%|                                                                                           | 0/10 [00:00<?, ?it/s]"
     ]
    },
    {
     "name": "stdout",
     "output_type": "stream",
     "text": [
      "Epoch: 1 Train Loss: 0.571904 L2-Train Loss: 0.572873\n",
      "Epoch: 1000 Train Loss: 0.069225 L2-Train Loss: 0.071602\n",
      "Epoch: 2000 Train Loss: 0.027103 L2-Train Loss: 0.030512\n",
      "Epoch: 3000 Train Loss: 0.017849 L2-Train Loss: 0.021964\n",
      "Epoch: 4000 Train Loss: 0.014708 L2-Train Loss: 0.019451\n",
      "Epoch: 5000 Train Loss: 0.010870 L2-Train Loss: 0.016245\n",
      "Epoch: 6000 Train Loss: 0.008832 L2-Train Loss: 0.014626\n",
      "Epoch: 7000 Train Loss: 0.007816 L2-Train Loss: 0.014159\n",
      "Epoch: 8000 Train Loss: 0.005588 L2-Train Loss: 0.012540\n",
      "Epoch: 9000 Train Loss: 0.005102 L2-Train Loss: 0.012617\n",
      "Epoch: 10000 Train Loss: 0.004112 L2-Train Loss: 0.011964\n",
      "Epoch: 11000 Train Loss: 0.003215 L2-Train Loss: 0.011466\n",
      "Epoch: 12000 Train Loss: 0.003694 L2-Train Loss: 0.012401\n",
      "Epoch: 13000 Train Loss: 0.002232 L2-Train Loss: 0.011394\n",
      "Epoch: 14000 Train Loss: 0.002965 L2-Train Loss: 0.012526\n",
      "Epoch: 15000 Train Loss: 0.002956 L2-Train Loss: 0.012941\n",
      "Epoch: 16000 Train Loss: 0.003330 L2-Train Loss: 0.013518\n",
      "Epoch: 17000 Train Loss: 0.003221 L2-Train Loss: 0.013678\n",
      "Epoch: 18000 Train Loss: 0.003080 L2-Train Loss: 0.013883\n",
      "Epoch: 19000 Train Loss: 0.003370 L2-Train Loss: 0.014531\n"
     ]
    },
    {
     "name": "stderr",
     "output_type": "stream",
     "text": [
      "\r",
      " 10%|████████▎                                                                          | 1/10 [00:51<07:45, 51.71s/it]"
     ]
    },
    {
     "name": "stdout",
     "output_type": "stream",
     "text": [
      "Epoch: 20000 Train Loss: 0.003153 L2-Train Loss: 0.014630\n",
      "Epoch: 1 Train Loss: 0.573103 L2-Train Loss: 0.574096\n",
      "Epoch: 1000 Train Loss: 0.072735 L2-Train Loss: 0.075073\n",
      "Epoch: 2000 Train Loss: 0.025203 L2-Train Loss: 0.028622\n",
      "Epoch: 3000 Train Loss: 0.017190 L2-Train Loss: 0.021468\n",
      "Epoch: 4000 Train Loss: 0.012659 L2-Train Loss: 0.017579\n",
      "Epoch: 5000 Train Loss: 0.008370 L2-Train Loss: 0.013924\n",
      "Epoch: 6000 Train Loss: 0.007443 L2-Train Loss: 0.013538\n",
      "Epoch: 7000 Train Loss: 0.006307 L2-Train Loss: 0.013144\n",
      "Epoch: 8000 Train Loss: 0.005125 L2-Train Loss: 0.012480\n",
      "Epoch: 9000 Train Loss: 0.004537 L2-Train Loss: 0.012270\n",
      "Epoch: 10000 Train Loss: 0.003613 L2-Train Loss: 0.011853\n",
      "Epoch: 11000 Train Loss: 0.003624 L2-Train Loss: 0.012518\n",
      "Epoch: 12000 Train Loss: 0.004657 L2-Train Loss: 0.013989\n",
      "Epoch: 13000 Train Loss: 0.003641 L2-Train Loss: 0.013561\n",
      "Epoch: 14000 Train Loss: 0.002062 L2-Train Loss: 0.012317\n",
      "Epoch: 15000 Train Loss: 0.002605 L2-Train Loss: 0.013050\n",
      "Epoch: 16000 Train Loss: 0.002453 L2-Train Loss: 0.013123\n",
      "Epoch: 17000 Train Loss: 0.002240 L2-Train Loss: 0.013255\n",
      "Epoch: 18000 Train Loss: 0.002674 L2-Train Loss: 0.014143\n",
      "Epoch: 19000 Train Loss: 0.003321 L2-Train Loss: 0.015065\n"
     ]
    },
    {
     "name": "stderr",
     "output_type": "stream",
     "text": [
      "\r",
      " 20%|████████████████▌                                                                  | 2/10 [01:42<06:51, 51.46s/it]"
     ]
    },
    {
     "name": "stdout",
     "output_type": "stream",
     "text": [
      "Epoch: 20000 Train Loss: 0.004225 L2-Train Loss: 0.016500\n",
      "Epoch: 1 Train Loss: 0.587108 L2-Train Loss: 0.588076\n",
      "Epoch: 1000 Train Loss: 0.061951 L2-Train Loss: 0.064312\n",
      "Epoch: 2000 Train Loss: 0.027199 L2-Train Loss: 0.030669\n",
      "Epoch: 3000 Train Loss: 0.014850 L2-Train Loss: 0.019223\n",
      "Epoch: 4000 Train Loss: 0.012556 L2-Train Loss: 0.017523\n",
      "Epoch: 5000 Train Loss: 0.010008 L2-Train Loss: 0.015555\n",
      "Epoch: 6000 Train Loss: 0.009086 L2-Train Loss: 0.015064\n",
      "Epoch: 7000 Train Loss: 0.006586 L2-Train Loss: 0.013138\n",
      "Epoch: 8000 Train Loss: 0.007087 L2-Train Loss: 0.014193\n",
      "Epoch: 9000 Train Loss: 0.005513 L2-Train Loss: 0.013173\n",
      "Epoch: 10000 Train Loss: 0.004692 L2-Train Loss: 0.012974\n",
      "Epoch: 11000 Train Loss: 0.003680 L2-Train Loss: 0.012437\n",
      "Epoch: 12000 Train Loss: 0.003867 L2-Train Loss: 0.013161\n",
      "Epoch: 13000 Train Loss: 0.003396 L2-Train Loss: 0.013073\n",
      "Epoch: 14000 Train Loss: 0.002323 L2-Train Loss: 0.012417\n",
      "Epoch: 15000 Train Loss: 0.003258 L2-Train Loss: 0.013656\n",
      "Epoch: 16000 Train Loss: 0.002952 L2-Train Loss: 0.013919\n",
      "Epoch: 17000 Train Loss: 0.002723 L2-Train Loss: 0.014444\n",
      "Epoch: 18000 Train Loss: 0.002828 L2-Train Loss: 0.015054\n",
      "Epoch: 19000 Train Loss: 0.002677 L2-Train Loss: 0.015124\n"
     ]
    },
    {
     "name": "stderr",
     "output_type": "stream",
     "text": [
      "\r",
      " 30%|████████████████████████▉                                                          | 3/10 [02:34<05:59, 51.39s/it]"
     ]
    },
    {
     "name": "stdout",
     "output_type": "stream",
     "text": [
      "Epoch: 20000 Train Loss: 0.002553 L2-Train Loss: 0.015394\n",
      "Epoch: 1 Train Loss: 0.526529 L2-Train Loss: 0.527390\n",
      "Epoch: 1000 Train Loss: 0.100195 L2-Train Loss: 0.102357\n",
      "Epoch: 2000 Train Loss: 0.031253 L2-Train Loss: 0.034647\n",
      "Epoch: 3000 Train Loss: 0.021903 L2-Train Loss: 0.026057\n",
      "Epoch: 4000 Train Loss: 0.019005 L2-Train Loss: 0.023813\n",
      "Epoch: 5000 Train Loss: 0.014227 L2-Train Loss: 0.019627\n",
      "Epoch: 6000 Train Loss: 0.010756 L2-Train Loss: 0.016910\n",
      "Epoch: 7000 Train Loss: 0.008396 L2-Train Loss: 0.014995\n",
      "Epoch: 8000 Train Loss: 0.007164 L2-Train Loss: 0.014333\n",
      "Epoch: 9000 Train Loss: 0.005068 L2-Train Loss: 0.012937\n",
      "Epoch: 10000 Train Loss: 0.003994 L2-Train Loss: 0.012346\n",
      "Epoch: 11000 Train Loss: 0.004635 L2-Train Loss: 0.013401\n",
      "Epoch: 12000 Train Loss: 0.004677 L2-Train Loss: 0.013799\n",
      "Epoch: 13000 Train Loss: 0.002392 L2-Train Loss: 0.011924\n",
      "Epoch: 14000 Train Loss: 0.003079 L2-Train Loss: 0.012978\n",
      "Epoch: 15000 Train Loss: 0.003402 L2-Train Loss: 0.013653\n",
      "Epoch: 16000 Train Loss: 0.002620 L2-Train Loss: 0.013207\n",
      "Epoch: 17000 Train Loss: 0.003020 L2-Train Loss: 0.014059\n",
      "Epoch: 18000 Train Loss: 0.001961 L2-Train Loss: 0.013587\n",
      "Epoch: 19000 Train Loss: 0.003155 L2-Train Loss: 0.015066\n"
     ]
    },
    {
     "name": "stderr",
     "output_type": "stream",
     "text": [
      "\r",
      " 40%|█████████████████████████████████▏                                                 | 4/10 [03:25<05:08, 51.45s/it]"
     ]
    },
    {
     "name": "stdout",
     "output_type": "stream",
     "text": [
      "Epoch: 20000 Train Loss: 0.002437 L2-Train Loss: 0.014797\n",
      "Epoch: 1 Train Loss: 0.517739 L2-Train Loss: 0.518752\n",
      "Epoch: 1000 Train Loss: 0.062038 L2-Train Loss: 0.064453\n",
      "Epoch: 2000 Train Loss: 0.028800 L2-Train Loss: 0.032156\n",
      "Epoch: 3000 Train Loss: 0.017349 L2-Train Loss: 0.021522\n",
      "Epoch: 4000 Train Loss: 0.010284 L2-Train Loss: 0.015095\n",
      "Epoch: 5000 Train Loss: 0.009131 L2-Train Loss: 0.014662\n",
      "Epoch: 6000 Train Loss: 0.007152 L2-Train Loss: 0.013149\n",
      "Epoch: 7000 Train Loss: 0.005757 L2-Train Loss: 0.012307\n",
      "Epoch: 8000 Train Loss: 0.005978 L2-Train Loss: 0.013004\n",
      "Epoch: 9000 Train Loss: 0.005973 L2-Train Loss: 0.013423\n",
      "Epoch: 10000 Train Loss: 0.003398 L2-Train Loss: 0.011472\n",
      "Epoch: 11000 Train Loss: 0.004065 L2-Train Loss: 0.012451\n",
      "Epoch: 12000 Train Loss: 0.003785 L2-Train Loss: 0.012493\n",
      "Epoch: 13000 Train Loss: 0.002427 L2-Train Loss: 0.011915\n",
      "Epoch: 14000 Train Loss: 0.002777 L2-Train Loss: 0.012802\n",
      "Epoch: 15000 Train Loss: 0.002133 L2-Train Loss: 0.012640\n",
      "Epoch: 16000 Train Loss: 0.002791 L2-Train Loss: 0.013694\n",
      "Epoch: 17000 Train Loss: 0.003087 L2-Train Loss: 0.014561\n",
      "Epoch: 18000 Train Loss: 0.002090 L2-Train Loss: 0.013950\n",
      "Epoch: 19000 Train Loss: 0.002935 L2-Train Loss: 0.015038\n"
     ]
    },
    {
     "name": "stderr",
     "output_type": "stream",
     "text": [
      "\r",
      " 50%|█████████████████████████████████████████▌                                         | 5/10 [04:17<04:17, 51.46s/it]"
     ]
    },
    {
     "name": "stdout",
     "output_type": "stream",
     "text": [
      "Epoch: 20000 Train Loss: 0.001746 L2-Train Loss: 0.014484\n",
      "Epoch: 1 Train Loss: 0.525312 L2-Train Loss: 0.526402\n",
      "Epoch: 1000 Train Loss: 0.070213 L2-Train Loss: 0.072715\n",
      "Epoch: 2000 Train Loss: 0.023049 L2-Train Loss: 0.026610\n",
      "Epoch: 3000 Train Loss: 0.015177 L2-Train Loss: 0.019555\n",
      "Epoch: 4000 Train Loss: 0.011440 L2-Train Loss: 0.016497\n",
      "Epoch: 5000 Train Loss: 0.008593 L2-Train Loss: 0.014373\n",
      "Epoch: 6000 Train Loss: 0.006846 L2-Train Loss: 0.013162\n",
      "Epoch: 7000 Train Loss: 0.007140 L2-Train Loss: 0.014099\n",
      "Epoch: 8000 Train Loss: 0.004867 L2-Train Loss: 0.012531\n",
      "Epoch: 9000 Train Loss: 0.002431 L2-Train Loss: 0.010528\n",
      "Epoch: 10000 Train Loss: 0.004415 L2-Train Loss: 0.012808\n",
      "Epoch: 11000 Train Loss: 0.002736 L2-Train Loss: 0.011490\n",
      "Epoch: 12000 Train Loss: 0.002741 L2-Train Loss: 0.011863\n",
      "Epoch: 13000 Train Loss: 0.003262 L2-Train Loss: 0.012768\n",
      "Epoch: 14000 Train Loss: 0.002757 L2-Train Loss: 0.012666\n",
      "Epoch: 15000 Train Loss: 0.003174 L2-Train Loss: 0.013588\n",
      "Epoch: 16000 Train Loss: 0.003225 L2-Train Loss: 0.014142\n",
      "Epoch: 17000 Train Loss: 0.002929 L2-Train Loss: 0.014256\n",
      "Epoch: 18000 Train Loss: 0.002639 L2-Train Loss: 0.014372\n",
      "Epoch: 19000 Train Loss: 0.002179 L2-Train Loss: 0.014222\n"
     ]
    },
    {
     "name": "stderr",
     "output_type": "stream",
     "text": [
      "\r",
      " 60%|█████████████████████████████████████████████████▊                                 | 6/10 [05:08<03:26, 51.52s/it]"
     ]
    },
    {
     "name": "stdout",
     "output_type": "stream",
     "text": [
      "Epoch: 20000 Train Loss: 0.002491 L2-Train Loss: 0.014893\n",
      "Epoch: 1 Train Loss: 0.567993 L2-Train Loss: 0.568990\n",
      "Epoch: 1000 Train Loss: 0.079925 L2-Train Loss: 0.082306\n",
      "Epoch: 2000 Train Loss: 0.025492 L2-Train Loss: 0.028892\n",
      "Epoch: 3000 Train Loss: 0.018907 L2-Train Loss: 0.023115\n",
      "Epoch: 4000 Train Loss: 0.012985 L2-Train Loss: 0.017729\n",
      "Epoch: 5000 Train Loss: 0.011441 L2-Train Loss: 0.016853\n",
      "Epoch: 6000 Train Loss: 0.009941 L2-Train Loss: 0.015850\n",
      "Epoch: 7000 Train Loss: 0.008555 L2-Train Loss: 0.015026\n",
      "Epoch: 8000 Train Loss: 0.006087 L2-Train Loss: 0.013190\n",
      "Epoch: 9000 Train Loss: 0.005393 L2-Train Loss: 0.013080\n",
      "Epoch: 10000 Train Loss: 0.004524 L2-Train Loss: 0.012757\n",
      "Epoch: 11000 Train Loss: 0.005631 L2-Train Loss: 0.014139\n",
      "Epoch: 12000 Train Loss: 0.004523 L2-Train Loss: 0.013477\n",
      "Epoch: 13000 Train Loss: 0.004678 L2-Train Loss: 0.014399\n",
      "Epoch: 14000 Train Loss: 0.005090 L2-Train Loss: 0.015201\n",
      "Epoch: 15000 Train Loss: 0.005227 L2-Train Loss: 0.015875\n",
      "Epoch: 16000 Train Loss: 0.003435 L2-Train Loss: 0.014581\n",
      "Epoch: 17000 Train Loss: 0.002489 L2-Train Loss: 0.014255\n",
      "Epoch: 18000 Train Loss: 0.003301 L2-Train Loss: 0.015464\n",
      "Epoch: 19000 Train Loss: 0.002926 L2-Train Loss: 0.015382\n"
     ]
    },
    {
     "name": "stderr",
     "output_type": "stream",
     "text": [
      "\r",
      " 70%|██████████████████████████████████████████████████████████                         | 7/10 [06:00<02:35, 51.69s/it]"
     ]
    },
    {
     "name": "stdout",
     "output_type": "stream",
     "text": [
      "Epoch: 20000 Train Loss: 0.002646 L2-Train Loss: 0.015201\n",
      "Epoch: 1 Train Loss: 0.615331 L2-Train Loss: 0.616376\n",
      "Epoch: 1000 Train Loss: 0.068378 L2-Train Loss: 0.070870\n",
      "Epoch: 2000 Train Loss: 0.030012 L2-Train Loss: 0.033580\n",
      "Epoch: 3000 Train Loss: 0.021568 L2-Train Loss: 0.025837\n",
      "Epoch: 4000 Train Loss: 0.015823 L2-Train Loss: 0.020715\n",
      "Epoch: 5000 Train Loss: 0.010890 L2-Train Loss: 0.016470\n",
      "Epoch: 6000 Train Loss: 0.009111 L2-Train Loss: 0.015303\n",
      "Epoch: 7000 Train Loss: 0.007683 L2-Train Loss: 0.014482\n",
      "Epoch: 8000 Train Loss: 0.006114 L2-Train Loss: 0.013575\n",
      "Epoch: 9000 Train Loss: 0.006242 L2-Train Loss: 0.014107\n",
      "Epoch: 10000 Train Loss: 0.004260 L2-Train Loss: 0.012741\n",
      "Epoch: 11000 Train Loss: 0.004207 L2-Train Loss: 0.013167\n",
      "Epoch: 12000 Train Loss: 0.003534 L2-Train Loss: 0.012997\n",
      "Epoch: 13000 Train Loss: 0.002810 L2-Train Loss: 0.012529\n",
      "Epoch: 14000 Train Loss: 0.003500 L2-Train Loss: 0.013796\n",
      "Epoch: 15000 Train Loss: 0.002674 L2-Train Loss: 0.013338\n",
      "Epoch: 16000 Train Loss: 0.003986 L2-Train Loss: 0.015008\n",
      "Epoch: 17000 Train Loss: 0.002684 L2-Train Loss: 0.014129\n",
      "Epoch: 18000 Train Loss: 0.002869 L2-Train Loss: 0.014613\n",
      "Epoch: 19000 Train Loss: 0.002056 L2-Train Loss: 0.014056\n"
     ]
    },
    {
     "name": "stderr",
     "output_type": "stream",
     "text": [
      "\r",
      " 80%|██████████████████████████████████████████████████████████████████▍                | 8/10 [06:52<01:42, 51.49s/it]"
     ]
    },
    {
     "name": "stdout",
     "output_type": "stream",
     "text": [
      "Epoch: 20000 Train Loss: 0.002579 L2-Train Loss: 0.015027\n",
      "Epoch: 1 Train Loss: 0.582170 L2-Train Loss: 0.583265\n",
      "Epoch: 1000 Train Loss: 0.064835 L2-Train Loss: 0.067408\n",
      "Epoch: 2000 Train Loss: 0.025711 L2-Train Loss: 0.029317\n",
      "Epoch: 3000 Train Loss: 0.016924 L2-Train Loss: 0.021323\n",
      "Epoch: 4000 Train Loss: 0.013735 L2-Train Loss: 0.018623\n",
      "Epoch: 5000 Train Loss: 0.009564 L2-Train Loss: 0.015094\n",
      "Epoch: 6000 Train Loss: 0.008284 L2-Train Loss: 0.014359\n",
      "Epoch: 7000 Train Loss: 0.006123 L2-Train Loss: 0.012959\n",
      "Epoch: 8000 Train Loss: 0.004770 L2-Train Loss: 0.012108\n",
      "Epoch: 9000 Train Loss: 0.003603 L2-Train Loss: 0.011428\n",
      "Epoch: 10000 Train Loss: 0.003570 L2-Train Loss: 0.012106\n",
      "Epoch: 11000 Train Loss: 0.003666 L2-Train Loss: 0.012552\n",
      "Epoch: 12000 Train Loss: 0.003236 L2-Train Loss: 0.012648\n",
      "Epoch: 13000 Train Loss: 0.003235 L2-Train Loss: 0.012935\n",
      "Epoch: 14000 Train Loss: 0.002885 L2-Train Loss: 0.013083\n",
      "Epoch: 15000 Train Loss: 0.003368 L2-Train Loss: 0.013847\n",
      "Epoch: 16000 Train Loss: 0.003882 L2-Train Loss: 0.014526\n",
      "Epoch: 17000 Train Loss: 0.002773 L2-Train Loss: 0.014045\n",
      "Epoch: 18000 Train Loss: 0.002559 L2-Train Loss: 0.014172\n",
      "Epoch: 19000 Train Loss: 0.002599 L2-Train Loss: 0.014746\n"
     ]
    },
    {
     "name": "stderr",
     "output_type": "stream",
     "text": [
      "\r",
      " 90%|██████████████████████████████████████████████████████████████████████████▋        | 9/10 [07:43<00:51, 51.40s/it]"
     ]
    },
    {
     "name": "stdout",
     "output_type": "stream",
     "text": [
      "Epoch: 20000 Train Loss: 0.003805 L2-Train Loss: 0.016250\n",
      "Epoch: 1 Train Loss: 0.564945 L2-Train Loss: 0.565953\n",
      "Epoch: 1000 Train Loss: 0.069583 L2-Train Loss: 0.072023\n",
      "Epoch: 2000 Train Loss: 0.030198 L2-Train Loss: 0.033531\n",
      "Epoch: 3000 Train Loss: 0.021939 L2-Train Loss: 0.025982\n",
      "Epoch: 4000 Train Loss: 0.016112 L2-Train Loss: 0.020889\n",
      "Epoch: 5000 Train Loss: 0.013112 L2-Train Loss: 0.018609\n",
      "Epoch: 6000 Train Loss: 0.011126 L2-Train Loss: 0.017196\n",
      "Epoch: 7000 Train Loss: 0.008881 L2-Train Loss: 0.015492\n",
      "Epoch: 8000 Train Loss: 0.006019 L2-Train Loss: 0.013110\n",
      "Epoch: 9000 Train Loss: 0.005484 L2-Train Loss: 0.013018\n",
      "Epoch: 10000 Train Loss: 0.005438 L2-Train Loss: 0.013621\n",
      "Epoch: 11000 Train Loss: 0.003846 L2-Train Loss: 0.012475\n",
      "Epoch: 12000 Train Loss: 0.002859 L2-Train Loss: 0.012127\n",
      "Epoch: 13000 Train Loss: 0.003272 L2-Train Loss: 0.013030\n",
      "Epoch: 14000 Train Loss: 0.002382 L2-Train Loss: 0.012583\n",
      "Epoch: 15000 Train Loss: 0.002415 L2-Train Loss: 0.013367\n",
      "Epoch: 16000 Train Loss: 0.002998 L2-Train Loss: 0.014228\n",
      "Epoch: 17000 Train Loss: 0.002446 L2-Train Loss: 0.014111\n",
      "Epoch: 18000 Train Loss: 0.002751 L2-Train Loss: 0.014924\n",
      "Epoch: 19000 Train Loss: 0.002161 L2-Train Loss: 0.014754\n"
     ]
    },
    {
     "name": "stderr",
     "output_type": "stream",
     "text": [
      "100%|██████████████████████████████████████████████████████████████████████████████████| 10/10 [08:34<00:00, 51.48s/it]\n"
     ]
    },
    {
     "name": "stdout",
     "output_type": "stream",
     "text": [
      "Epoch: 20000 Train Loss: 0.002146 L2-Train Loss: 0.015142\n",
      "Finish test particle_num=256 cutoff = 100.00 avg_trainloss=2.718e-03 avg_L2_trainloss=1.506e-02\n"
     ]
    },
    {
     "name": "stderr",
     "output_type": "stream",
     "text": [
      "\r",
      "  0%|                                                                                           | 0/10 [00:00<?, ?it/s]"
     ]
    },
    {
     "name": "stdout",
     "output_type": "stream",
     "text": [
      "Epoch: 1 Train Loss: 0.543745 L2-Train Loss: 0.544725\n",
      "Epoch: 1000 Train Loss: 0.069116 L2-Train Loss: 0.071513\n",
      "Epoch: 2000 Train Loss: 0.027308 L2-Train Loss: 0.030709\n",
      "Epoch: 3000 Train Loss: 0.016963 L2-Train Loss: 0.021175\n",
      "Epoch: 4000 Train Loss: 0.012274 L2-Train Loss: 0.017219\n",
      "Epoch: 5000 Train Loss: 0.009528 L2-Train Loss: 0.015159\n",
      "Epoch: 6000 Train Loss: 0.007969 L2-Train Loss: 0.014178\n",
      "Epoch: 7000 Train Loss: 0.006723 L2-Train Loss: 0.013368\n",
      "Epoch: 8000 Train Loss: 0.005752 L2-Train Loss: 0.012953\n",
      "Epoch: 9000 Train Loss: 0.004508 L2-Train Loss: 0.012238\n",
      "Epoch: 10000 Train Loss: 0.003759 L2-Train Loss: 0.011956\n",
      "Epoch: 11000 Train Loss: 0.002941 L2-Train Loss: 0.011586\n",
      "Epoch: 12000 Train Loss: 0.003787 L2-Train Loss: 0.012821\n",
      "Epoch: 13000 Train Loss: 0.002644 L2-Train Loss: 0.012082\n",
      "Epoch: 14000 Train Loss: 0.002361 L2-Train Loss: 0.012273\n",
      "Epoch: 15000 Train Loss: 0.002309 L2-Train Loss: 0.012596\n",
      "Epoch: 16000 Train Loss: 0.002427 L2-Train Loss: 0.013045\n",
      "Epoch: 17000 Train Loss: 0.002135 L2-Train Loss: 0.013190\n",
      "Epoch: 18000 Train Loss: 0.001993 L2-Train Loss: 0.013439\n",
      "Epoch: 19000 Train Loss: 0.001965 L2-Train Loss: 0.013738\n"
     ]
    },
    {
     "name": "stderr",
     "output_type": "stream",
     "text": [
      "\r",
      " 10%|████████▎                                                                          | 1/10 [00:50<07:38, 50.91s/it]"
     ]
    },
    {
     "name": "stdout",
     "output_type": "stream",
     "text": [
      "Epoch: 20000 Train Loss: 0.001789 L2-Train Loss: 0.014057\n",
      "Epoch: 1 Train Loss: 0.536944 L2-Train Loss: 0.537993\n",
      "Epoch: 1000 Train Loss: 0.064094 L2-Train Loss: 0.066542\n",
      "Epoch: 2000 Train Loss: 0.026582 L2-Train Loss: 0.030061\n",
      "Epoch: 3000 Train Loss: 0.016685 L2-Train Loss: 0.021018\n",
      "Epoch: 4000 Train Loss: 0.013189 L2-Train Loss: 0.018198\n",
      "Epoch: 5000 Train Loss: 0.009056 L2-Train Loss: 0.014656\n",
      "Epoch: 6000 Train Loss: 0.006912 L2-Train Loss: 0.013095\n",
      "Epoch: 7000 Train Loss: 0.007167 L2-Train Loss: 0.013812\n",
      "Epoch: 8000 Train Loss: 0.004977 L2-Train Loss: 0.012123\n",
      "Epoch: 9000 Train Loss: 0.004037 L2-Train Loss: 0.011711\n",
      "Epoch: 10000 Train Loss: 0.003621 L2-Train Loss: 0.011909\n",
      "Epoch: 11000 Train Loss: 0.003224 L2-Train Loss: 0.012082\n",
      "Epoch: 12000 Train Loss: 0.002628 L2-Train Loss: 0.011822\n",
      "Epoch: 13000 Train Loss: 0.002756 L2-Train Loss: 0.012436\n",
      "Epoch: 14000 Train Loss: 0.002081 L2-Train Loss: 0.012315\n",
      "Epoch: 15000 Train Loss: 0.001984 L2-Train Loss: 0.012504\n",
      "Epoch: 16000 Train Loss: 0.001804 L2-Train Loss: 0.012829\n",
      "Epoch: 17000 Train Loss: 0.001842 L2-Train Loss: 0.013169\n",
      "Epoch: 18000 Train Loss: 0.002043 L2-Train Loss: 0.013908\n",
      "Epoch: 19000 Train Loss: 0.001401 L2-Train Loss: 0.013688\n"
     ]
    },
    {
     "name": "stderr",
     "output_type": "stream",
     "text": [
      "\r",
      " 20%|████████████████▌                                                                  | 2/10 [01:42<06:48, 51.06s/it]"
     ]
    },
    {
     "name": "stdout",
     "output_type": "stream",
     "text": [
      "Epoch: 20000 Train Loss: 0.001569 L2-Train Loss: 0.014226\n",
      "Epoch: 1 Train Loss: 0.529683 L2-Train Loss: 0.530670\n",
      "Epoch: 1000 Train Loss: 0.070915 L2-Train Loss: 0.073299\n",
      "Epoch: 2000 Train Loss: 0.024582 L2-Train Loss: 0.028000\n",
      "Epoch: 3000 Train Loss: 0.016231 L2-Train Loss: 0.020410\n",
      "Epoch: 4000 Train Loss: 0.013960 L2-Train Loss: 0.018739\n",
      "Epoch: 5000 Train Loss: 0.010043 L2-Train Loss: 0.015550\n",
      "Epoch: 6000 Train Loss: 0.007944 L2-Train Loss: 0.014049\n",
      "Epoch: 7000 Train Loss: 0.005771 L2-Train Loss: 0.012288\n",
      "Epoch: 8000 Train Loss: 0.004968 L2-Train Loss: 0.012074\n",
      "Epoch: 9000 Train Loss: 0.003627 L2-Train Loss: 0.011309\n",
      "Epoch: 10000 Train Loss: 0.003696 L2-Train Loss: 0.011832\n",
      "Epoch: 11000 Train Loss: 0.002991 L2-Train Loss: 0.011627\n",
      "Epoch: 12000 Train Loss: 0.003032 L2-Train Loss: 0.012183\n",
      "Epoch: 13000 Train Loss: 0.002349 L2-Train Loss: 0.012026\n",
      "Epoch: 14000 Train Loss: 0.002227 L2-Train Loss: 0.012397\n",
      "Epoch: 15000 Train Loss: 0.002372 L2-Train Loss: 0.012997\n",
      "Epoch: 16000 Train Loss: 0.002362 L2-Train Loss: 0.013347\n",
      "Epoch: 17000 Train Loss: 0.001628 L2-Train Loss: 0.013129\n",
      "Epoch: 18000 Train Loss: 0.002018 L2-Train Loss: 0.013916\n",
      "Epoch: 19000 Train Loss: 0.001857 L2-Train Loss: 0.014103\n"
     ]
    },
    {
     "name": "stderr",
     "output_type": "stream",
     "text": [
      "\r",
      " 30%|████████████████████████▉                                                          | 3/10 [02:32<05:56, 50.95s/it]"
     ]
    },
    {
     "name": "stdout",
     "output_type": "stream",
     "text": [
      "Epoch: 20000 Train Loss: 0.002288 L2-Train Loss: 0.014632\n",
      "Epoch: 1 Train Loss: 0.572114 L2-Train Loss: 0.573094\n",
      "Epoch: 1000 Train Loss: 0.072553 L2-Train Loss: 0.074888\n",
      "Epoch: 2000 Train Loss: 0.025809 L2-Train Loss: 0.029195\n",
      "Epoch: 3000 Train Loss: 0.017067 L2-Train Loss: 0.021261\n",
      "Epoch: 4000 Train Loss: 0.014254 L2-Train Loss: 0.019043\n",
      "Epoch: 5000 Train Loss: 0.011954 L2-Train Loss: 0.017282\n",
      "Epoch: 6000 Train Loss: 0.009913 L2-Train Loss: 0.015758\n",
      "Epoch: 7000 Train Loss: 0.006037 L2-Train Loss: 0.012383\n",
      "Epoch: 8000 Train Loss: 0.004238 L2-Train Loss: 0.011021\n",
      "Epoch: 9000 Train Loss: 0.004031 L2-Train Loss: 0.011407\n",
      "Epoch: 10000 Train Loss: 0.004008 L2-Train Loss: 0.011846\n",
      "Epoch: 11000 Train Loss: 0.003541 L2-Train Loss: 0.011881\n",
      "Epoch: 12000 Train Loss: 0.002890 L2-Train Loss: 0.011621\n",
      "Epoch: 13000 Train Loss: 0.002639 L2-Train Loss: 0.011824\n",
      "Epoch: 14000 Train Loss: 0.002120 L2-Train Loss: 0.011834\n",
      "Epoch: 15000 Train Loss: 0.002220 L2-Train Loss: 0.012420\n",
      "Epoch: 16000 Train Loss: 0.001606 L2-Train Loss: 0.012293\n",
      "Epoch: 17000 Train Loss: 0.002309 L2-Train Loss: 0.013470\n",
      "Epoch: 18000 Train Loss: 0.001903 L2-Train Loss: 0.013491\n",
      "Epoch: 19000 Train Loss: 0.001997 L2-Train Loss: 0.014126\n"
     ]
    },
    {
     "name": "stderr",
     "output_type": "stream",
     "text": [
      "\r",
      " 40%|█████████████████████████████████▏                                                 | 4/10 [03:23<05:05, 50.89s/it]"
     ]
    },
    {
     "name": "stdout",
     "output_type": "stream",
     "text": [
      "Epoch: 20000 Train Loss: 0.002072 L2-Train Loss: 0.014797\n",
      "Epoch: 1 Train Loss: 0.524522 L2-Train Loss: 0.525484\n",
      "Epoch: 1000 Train Loss: 0.081532 L2-Train Loss: 0.083847\n",
      "Epoch: 2000 Train Loss: 0.026721 L2-Train Loss: 0.030231\n",
      "Epoch: 3000 Train Loss: 0.016826 L2-Train Loss: 0.021180\n",
      "Epoch: 4000 Train Loss: 0.013336 L2-Train Loss: 0.018323\n",
      "Epoch: 5000 Train Loss: 0.009694 L2-Train Loss: 0.015334\n",
      "Epoch: 6000 Train Loss: 0.007460 L2-Train Loss: 0.013687\n",
      "Epoch: 7000 Train Loss: 0.006094 L2-Train Loss: 0.012978\n",
      "Epoch: 8000 Train Loss: 0.004665 L2-Train Loss: 0.012181\n",
      "Epoch: 9000 Train Loss: 0.003802 L2-Train Loss: 0.011957\n",
      "Epoch: 10000 Train Loss: 0.003865 L2-Train Loss: 0.012589\n",
      "Epoch: 11000 Train Loss: 0.003039 L2-Train Loss: 0.012253\n",
      "Epoch: 12000 Train Loss: 0.002581 L2-Train Loss: 0.012134\n",
      "Epoch: 13000 Train Loss: 0.002381 L2-Train Loss: 0.012404\n",
      "Epoch: 14000 Train Loss: 0.002684 L2-Train Loss: 0.013102\n",
      "Epoch: 15000 Train Loss: 0.002142 L2-Train Loss: 0.013150\n",
      "Epoch: 16000 Train Loss: 0.001912 L2-Train Loss: 0.013361\n",
      "Epoch: 17000 Train Loss: 0.001822 L2-Train Loss: 0.013669\n",
      "Epoch: 18000 Train Loss: 0.001955 L2-Train Loss: 0.014366\n",
      "Epoch: 19000 Train Loss: 0.002267 L2-Train Loss: 0.015069\n"
     ]
    },
    {
     "name": "stderr",
     "output_type": "stream",
     "text": [
      "\r",
      " 50%|█████████████████████████████████████████▌                                         | 5/10 [04:14<04:14, 50.82s/it]"
     ]
    },
    {
     "name": "stdout",
     "output_type": "stream",
     "text": [
      "Epoch: 20000 Train Loss: 0.001991 L2-Train Loss: 0.015146\n",
      "Epoch: 1 Train Loss: 0.526717 L2-Train Loss: 0.527775\n",
      "Epoch: 1000 Train Loss: 0.071172 L2-Train Loss: 0.073600\n",
      "Epoch: 2000 Train Loss: 0.030531 L2-Train Loss: 0.033996\n",
      "Epoch: 3000 Train Loss: 0.019651 L2-Train Loss: 0.023883\n",
      "Epoch: 4000 Train Loss: 0.014736 L2-Train Loss: 0.019656\n",
      "Epoch: 5000 Train Loss: 0.010874 L2-Train Loss: 0.016509\n",
      "Epoch: 6000 Train Loss: 0.008593 L2-Train Loss: 0.014854\n",
      "Epoch: 7000 Train Loss: 0.006985 L2-Train Loss: 0.013862\n",
      "Epoch: 8000 Train Loss: 0.005794 L2-Train Loss: 0.013243\n",
      "Epoch: 9000 Train Loss: 0.005387 L2-Train Loss: 0.013330\n",
      "Epoch: 10000 Train Loss: 0.004046 L2-Train Loss: 0.012384\n",
      "Epoch: 11000 Train Loss: 0.003553 L2-Train Loss: 0.012364\n",
      "Epoch: 12000 Train Loss: 0.003046 L2-Train Loss: 0.012244\n",
      "Epoch: 13000 Train Loss: 0.002821 L2-Train Loss: 0.012586\n",
      "Epoch: 14000 Train Loss: 0.002983 L2-Train Loss: 0.013262\n",
      "Epoch: 15000 Train Loss: 0.002335 L2-Train Loss: 0.013079\n",
      "Epoch: 16000 Train Loss: 0.002156 L2-Train Loss: 0.013180\n",
      "Epoch: 17000 Train Loss: 0.001953 L2-Train Loss: 0.013470\n",
      "Epoch: 18000 Train Loss: 0.001847 L2-Train Loss: 0.013833\n",
      "Epoch: 19000 Train Loss: 0.001849 L2-Train Loss: 0.014188\n"
     ]
    },
    {
     "name": "stderr",
     "output_type": "stream",
     "text": [
      "\r",
      " 60%|█████████████████████████████████████████████████▊                                 | 6/10 [05:05<03:23, 50.94s/it]"
     ]
    },
    {
     "name": "stdout",
     "output_type": "stream",
     "text": [
      "Epoch: 20000 Train Loss: 0.002162 L2-Train Loss: 0.014936\n",
      "Epoch: 1 Train Loss: 0.519167 L2-Train Loss: 0.520195\n",
      "Epoch: 1000 Train Loss: 0.065337 L2-Train Loss: 0.067731\n",
      "Epoch: 2000 Train Loss: 0.029255 L2-Train Loss: 0.032656\n",
      "Epoch: 3000 Train Loss: 0.018375 L2-Train Loss: 0.022643\n",
      "Epoch: 4000 Train Loss: 0.014523 L2-Train Loss: 0.019434\n",
      "Epoch: 5000 Train Loss: 0.010181 L2-Train Loss: 0.015781\n",
      "Epoch: 6000 Train Loss: 0.007472 L2-Train Loss: 0.013727\n",
      "Epoch: 7000 Train Loss: 0.006585 L2-Train Loss: 0.013373\n",
      "Epoch: 8000 Train Loss: 0.005531 L2-Train Loss: 0.012802\n",
      "Epoch: 9000 Train Loss: 0.004395 L2-Train Loss: 0.012263\n",
      "Epoch: 10000 Train Loss: 0.003992 L2-Train Loss: 0.012331\n",
      "Epoch: 11000 Train Loss: 0.004097 L2-Train Loss: 0.012840\n",
      "Epoch: 12000 Train Loss: 0.002674 L2-Train Loss: 0.012072\n",
      "Epoch: 13000 Train Loss: 0.002484 L2-Train Loss: 0.012226\n",
      "Epoch: 14000 Train Loss: 0.002391 L2-Train Loss: 0.012563\n",
      "Epoch: 15000 Train Loss: 0.002063 L2-Train Loss: 0.012861\n",
      "Epoch: 16000 Train Loss: 0.002613 L2-Train Loss: 0.013958\n",
      "Epoch: 17000 Train Loss: 0.002315 L2-Train Loss: 0.014142\n",
      "Epoch: 18000 Train Loss: 0.001805 L2-Train Loss: 0.014171\n",
      "Epoch: 19000 Train Loss: 0.001444 L2-Train Loss: 0.014451\n"
     ]
    },
    {
     "name": "stderr",
     "output_type": "stream",
     "text": [
      "\r",
      " 70%|██████████████████████████████████████████████████████████                         | 7/10 [05:56<02:32, 50.95s/it]"
     ]
    },
    {
     "name": "stdout",
     "output_type": "stream",
     "text": [
      "Epoch: 20000 Train Loss: 0.001648 L2-Train Loss: 0.015075\n",
      "Epoch: 1 Train Loss: 0.563030 L2-Train Loss: 0.564029\n",
      "Epoch: 1000 Train Loss: 0.064729 L2-Train Loss: 0.067182\n",
      "Epoch: 2000 Train Loss: 0.026219 L2-Train Loss: 0.029679\n",
      "Epoch: 3000 Train Loss: 0.018718 L2-Train Loss: 0.022904\n",
      "Epoch: 4000 Train Loss: 0.011871 L2-Train Loss: 0.016891\n",
      "Epoch: 5000 Train Loss: 0.010403 L2-Train Loss: 0.015986\n",
      "Epoch: 6000 Train Loss: 0.007054 L2-Train Loss: 0.013344\n",
      "Epoch: 7000 Train Loss: 0.005635 L2-Train Loss: 0.012519\n",
      "Epoch: 8000 Train Loss: 0.005279 L2-Train Loss: 0.012757\n",
      "Epoch: 9000 Train Loss: 0.004565 L2-Train Loss: 0.012602\n",
      "Epoch: 10000 Train Loss: 0.002903 L2-Train Loss: 0.011411\n",
      "Epoch: 11000 Train Loss: 0.003692 L2-Train Loss: 0.012670\n",
      "Epoch: 12000 Train Loss: 0.002542 L2-Train Loss: 0.012012\n",
      "Epoch: 13000 Train Loss: 0.002683 L2-Train Loss: 0.012587\n",
      "Epoch: 14000 Train Loss: 0.002642 L2-Train Loss: 0.012840\n",
      "Epoch: 15000 Train Loss: 0.002256 L2-Train Loss: 0.012969\n",
      "Epoch: 16000 Train Loss: 0.001929 L2-Train Loss: 0.013106\n",
      "Epoch: 17000 Train Loss: 0.002006 L2-Train Loss: 0.013588\n",
      "Epoch: 18000 Train Loss: 0.001677 L2-Train Loss: 0.013719\n",
      "Epoch: 19000 Train Loss: 0.001436 L2-Train Loss: 0.013898\n"
     ]
    },
    {
     "name": "stderr",
     "output_type": "stream",
     "text": [
      "\r",
      " 80%|██████████████████████████████████████████████████████████████████▍                | 8/10 [06:47<01:41, 50.94s/it]"
     ]
    },
    {
     "name": "stdout",
     "output_type": "stream",
     "text": [
      "Epoch: 20000 Train Loss: 0.001685 L2-Train Loss: 0.014626\n",
      "Epoch: 1 Train Loss: 0.540290 L2-Train Loss: 0.541270\n",
      "Epoch: 1000 Train Loss: 0.071450 L2-Train Loss: 0.073858\n",
      "Epoch: 2000 Train Loss: 0.028423 L2-Train Loss: 0.031864\n",
      "Epoch: 3000 Train Loss: 0.019475 L2-Train Loss: 0.023660\n",
      "Epoch: 4000 Train Loss: 0.014841 L2-Train Loss: 0.019788\n",
      "Epoch: 5000 Train Loss: 0.010021 L2-Train Loss: 0.015655\n",
      "Epoch: 6000 Train Loss: 0.007804 L2-Train Loss: 0.014091\n",
      "Epoch: 7000 Train Loss: 0.005849 L2-Train Loss: 0.012793\n",
      "Epoch: 8000 Train Loss: 0.004823 L2-Train Loss: 0.012296\n",
      "Epoch: 9000 Train Loss: 0.004204 L2-Train Loss: 0.012237\n",
      "Epoch: 10000 Train Loss: 0.003539 L2-Train Loss: 0.011868\n",
      "Epoch: 11000 Train Loss: 0.003277 L2-Train Loss: 0.012164\n",
      "Epoch: 12000 Train Loss: 0.003473 L2-Train Loss: 0.012776\n",
      "Epoch: 13000 Train Loss: 0.003073 L2-Train Loss: 0.012818\n",
      "Epoch: 14000 Train Loss: 0.001983 L2-Train Loss: 0.012200\n",
      "Epoch: 15000 Train Loss: 0.002284 L2-Train Loss: 0.012852\n",
      "Epoch: 16000 Train Loss: 0.002400 L2-Train Loss: 0.013384\n",
      "Epoch: 17000 Train Loss: 0.002005 L2-Train Loss: 0.013464\n",
      "Epoch: 18000 Train Loss: 0.001862 L2-Train Loss: 0.013882\n",
      "Epoch: 19000 Train Loss: 0.002119 L2-Train Loss: 0.014485\n"
     ]
    },
    {
     "name": "stderr",
     "output_type": "stream",
     "text": [
      "\r",
      " 90%|██████████████████████████████████████████████████████████████████████████▋        | 9/10 [07:38<00:50, 50.88s/it]"
     ]
    },
    {
     "name": "stdout",
     "output_type": "stream",
     "text": [
      "Epoch: 20000 Train Loss: 0.001680 L2-Train Loss: 0.014471\n",
      "Epoch: 1 Train Loss: 0.526394 L2-Train Loss: 0.527357\n",
      "Epoch: 1000 Train Loss: 0.069888 L2-Train Loss: 0.072224\n",
      "Epoch: 2000 Train Loss: 0.029896 L2-Train Loss: 0.033248\n",
      "Epoch: 3000 Train Loss: 0.018052 L2-Train Loss: 0.022214\n",
      "Epoch: 4000 Train Loss: 0.013744 L2-Train Loss: 0.018641\n",
      "Epoch: 5000 Train Loss: 0.010085 L2-Train Loss: 0.015532\n",
      "Epoch: 6000 Train Loss: 0.007782 L2-Train Loss: 0.013779\n",
      "Epoch: 7000 Train Loss: 0.006016 L2-Train Loss: 0.012664\n",
      "Epoch: 8000 Train Loss: 0.004849 L2-Train Loss: 0.012163\n",
      "Epoch: 9000 Train Loss: 0.004156 L2-Train Loss: 0.012038\n",
      "Epoch: 10000 Train Loss: 0.002956 L2-Train Loss: 0.011461\n",
      "Epoch: 11000 Train Loss: 0.002397 L2-Train Loss: 0.011399\n",
      "Epoch: 12000 Train Loss: 0.002396 L2-Train Loss: 0.012076\n",
      "Epoch: 13000 Train Loss: 0.002284 L2-Train Loss: 0.012410\n",
      "Epoch: 14000 Train Loss: 0.002124 L2-Train Loss: 0.012732\n",
      "Epoch: 15000 Train Loss: 0.002347 L2-Train Loss: 0.013405\n",
      "Epoch: 16000 Train Loss: 0.002751 L2-Train Loss: 0.014371\n",
      "Epoch: 17000 Train Loss: 0.002308 L2-Train Loss: 0.014430\n",
      "Epoch: 18000 Train Loss: 0.001802 L2-Train Loss: 0.014367\n",
      "Epoch: 19000 Train Loss: 0.002390 L2-Train Loss: 0.015271\n"
     ]
    },
    {
     "name": "stderr",
     "output_type": "stream",
     "text": [
      "100%|██████████████████████████████████████████████████████████████████████████████████| 10/10 [08:29<00:00, 50.95s/it]\n"
     ]
    },
    {
     "name": "stdout",
     "output_type": "stream",
     "text": [
      "Epoch: 20000 Train Loss: 0.001323 L2-Train Loss: 0.014576\n",
      "Finish test particle_num=512 cutoff = 100.00 avg_trainloss=1.857e-03 avg_L2_trainloss=1.459e-02\n"
     ]
    },
    {
     "name": "stderr",
     "output_type": "stream",
     "text": [
      "\r",
      "  0%|                                                                                           | 0/10 [00:00<?, ?it/s]"
     ]
    },
    {
     "name": "stdout",
     "output_type": "stream",
     "text": [
      "Epoch: 1 Train Loss: 0.535964 L2-Train Loss: 0.536977\n",
      "Epoch: 1000 Train Loss: 0.075559 L2-Train Loss: 0.077932\n",
      "Epoch: 2000 Train Loss: 0.026872 L2-Train Loss: 0.030369\n",
      "Epoch: 3000 Train Loss: 0.016721 L2-Train Loss: 0.021044\n",
      "Epoch: 4000 Train Loss: 0.012901 L2-Train Loss: 0.017997\n",
      "Epoch: 5000 Train Loss: 0.010728 L2-Train Loss: 0.016337\n",
      "Epoch: 6000 Train Loss: 0.008256 L2-Train Loss: 0.014460\n",
      "Epoch: 7000 Train Loss: 0.006360 L2-Train Loss: 0.013030\n",
      "Epoch: 8000 Train Loss: 0.005489 L2-Train Loss: 0.012683\n",
      "Epoch: 9000 Train Loss: 0.003835 L2-Train Loss: 0.011582\n",
      "Epoch: 10000 Train Loss: 0.003298 L2-Train Loss: 0.011465\n",
      "Epoch: 11000 Train Loss: 0.003327 L2-Train Loss: 0.011899\n",
      "Epoch: 12000 Train Loss: 0.003046 L2-Train Loss: 0.012132\n",
      "Epoch: 13000 Train Loss: 0.002317 L2-Train Loss: 0.011848\n",
      "Epoch: 14000 Train Loss: 0.002427 L2-Train Loss: 0.012413\n",
      "Epoch: 15000 Train Loss: 0.002288 L2-Train Loss: 0.012724\n",
      "Epoch: 16000 Train Loss: 0.001935 L2-Train Loss: 0.012788\n",
      "Epoch: 17000 Train Loss: 0.001806 L2-Train Loss: 0.013240\n",
      "Epoch: 18000 Train Loss: 0.001558 L2-Train Loss: 0.013473\n",
      "Epoch: 19000 Train Loss: 0.001501 L2-Train Loss: 0.013771\n"
     ]
    },
    {
     "name": "stderr",
     "output_type": "stream",
     "text": [
      "\r",
      " 10%|████████▎                                                                          | 1/10 [00:50<07:32, 50.29s/it]"
     ]
    },
    {
     "name": "stdout",
     "output_type": "stream",
     "text": [
      "Epoch: 20000 Train Loss: 0.001525 L2-Train Loss: 0.014195\n",
      "Epoch: 1 Train Loss: 0.548370 L2-Train Loss: 0.549365\n",
      "Epoch: 1000 Train Loss: 0.069172 L2-Train Loss: 0.071567\n",
      "Epoch: 2000 Train Loss: 0.027493 L2-Train Loss: 0.030957\n",
      "Epoch: 3000 Train Loss: 0.018346 L2-Train Loss: 0.022515\n",
      "Epoch: 4000 Train Loss: 0.013804 L2-Train Loss: 0.018683\n",
      "Epoch: 5000 Train Loss: 0.009856 L2-Train Loss: 0.015354\n",
      "Epoch: 6000 Train Loss: 0.008777 L2-Train Loss: 0.014790\n",
      "Epoch: 7000 Train Loss: 0.007052 L2-Train Loss: 0.013605\n",
      "Epoch: 8000 Train Loss: 0.005382 L2-Train Loss: 0.012506\n",
      "Epoch: 9000 Train Loss: 0.004815 L2-Train Loss: 0.012473\n",
      "Epoch: 10000 Train Loss: 0.003607 L2-Train Loss: 0.011812\n",
      "Epoch: 11000 Train Loss: 0.002735 L2-Train Loss: 0.011469\n",
      "Epoch: 12000 Train Loss: 0.002968 L2-Train Loss: 0.012160\n",
      "Epoch: 13000 Train Loss: 0.002573 L2-Train Loss: 0.012222\n",
      "Epoch: 14000 Train Loss: 0.002312 L2-Train Loss: 0.012450\n",
      "Epoch: 15000 Train Loss: 0.001987 L2-Train Loss: 0.012599\n",
      "Epoch: 16000 Train Loss: 0.002098 L2-Train Loss: 0.013105\n",
      "Epoch: 17000 Train Loss: 0.001843 L2-Train Loss: 0.013316\n",
      "Epoch: 18000 Train Loss: 0.002095 L2-Train Loss: 0.013946\n",
      "Epoch: 19000 Train Loss: 0.001406 L2-Train Loss: 0.013716\n"
     ]
    },
    {
     "name": "stderr",
     "output_type": "stream",
     "text": [
      "\r",
      " 20%|████████████████▌                                                                  | 2/10 [01:41<06:46, 50.82s/it]"
     ]
    },
    {
     "name": "stdout",
     "output_type": "stream",
     "text": [
      "Epoch: 20000 Train Loss: 0.001772 L2-Train Loss: 0.014478\n",
      "Epoch: 1 Train Loss: 0.538332 L2-Train Loss: 0.539314\n",
      "Epoch: 1000 Train Loss: 0.071593 L2-Train Loss: 0.073963\n",
      "Epoch: 2000 Train Loss: 0.027055 L2-Train Loss: 0.030477\n",
      "Epoch: 3000 Train Loss: 0.016648 L2-Train Loss: 0.020871\n",
      "Epoch: 4000 Train Loss: 0.010972 L2-Train Loss: 0.015863\n",
      "Epoch: 5000 Train Loss: 0.008632 L2-Train Loss: 0.014120\n",
      "Epoch: 6000 Train Loss: 0.007071 L2-Train Loss: 0.013197\n",
      "Epoch: 7000 Train Loss: 0.005142 L2-Train Loss: 0.011819\n",
      "Epoch: 8000 Train Loss: 0.004223 L2-Train Loss: 0.011401\n",
      "Epoch: 9000 Train Loss: 0.003970 L2-Train Loss: 0.011718\n",
      "Epoch: 10000 Train Loss: 0.003087 L2-Train Loss: 0.011193\n",
      "Epoch: 11000 Train Loss: 0.002487 L2-Train Loss: 0.011142\n",
      "Epoch: 12000 Train Loss: 0.002418 L2-Train Loss: 0.011610\n",
      "Epoch: 13000 Train Loss: 0.002296 L2-Train Loss: 0.011927\n",
      "Epoch: 14000 Train Loss: 0.002388 L2-Train Loss: 0.012491\n",
      "Epoch: 15000 Train Loss: 0.002068 L2-Train Loss: 0.012603\n",
      "Epoch: 16000 Train Loss: 0.001985 L2-Train Loss: 0.012982\n",
      "Epoch: 17000 Train Loss: 0.001866 L2-Train Loss: 0.013232\n",
      "Epoch: 18000 Train Loss: 0.001694 L2-Train Loss: 0.013436\n",
      "Epoch: 19000 Train Loss: 0.001717 L2-Train Loss: 0.013789\n"
     ]
    },
    {
     "name": "stderr",
     "output_type": "stream",
     "text": [
      "\r",
      " 30%|████████████████████████▉                                                          | 3/10 [02:32<05:56, 50.94s/it]"
     ]
    },
    {
     "name": "stdout",
     "output_type": "stream",
     "text": [
      "Epoch: 20000 Train Loss: 0.001213 L2-Train Loss: 0.013757\n",
      "Epoch: 1 Train Loss: 0.538993 L2-Train Loss: 0.539981\n",
      "Epoch: 1000 Train Loss: 0.067558 L2-Train Loss: 0.069955\n",
      "Epoch: 2000 Train Loss: 0.026382 L2-Train Loss: 0.029845\n",
      "Epoch: 3000 Train Loss: 0.018097 L2-Train Loss: 0.022319\n",
      "Epoch: 4000 Train Loss: 0.013406 L2-Train Loss: 0.018323\n",
      "Epoch: 5000 Train Loss: 0.010952 L2-Train Loss: 0.016503\n",
      "Epoch: 6000 Train Loss: 0.009001 L2-Train Loss: 0.015103\n",
      "Epoch: 7000 Train Loss: 0.006796 L2-Train Loss: 0.013493\n",
      "Epoch: 8000 Train Loss: 0.005436 L2-Train Loss: 0.012674\n",
      "Epoch: 9000 Train Loss: 0.004493 L2-Train Loss: 0.012257\n",
      "Epoch: 10000 Train Loss: 0.003893 L2-Train Loss: 0.012214\n",
      "Epoch: 11000 Train Loss: 0.003113 L2-Train Loss: 0.012008\n",
      "Epoch: 12000 Train Loss: 0.002842 L2-Train Loss: 0.012324\n",
      "Epoch: 13000 Train Loss: 0.002394 L2-Train Loss: 0.012308\n",
      "Epoch: 14000 Train Loss: 0.002188 L2-Train Loss: 0.012546\n",
      "Epoch: 15000 Train Loss: 0.001836 L2-Train Loss: 0.012719\n",
      "Epoch: 16000 Train Loss: 0.001512 L2-Train Loss: 0.012891\n",
      "Epoch: 17000 Train Loss: 0.001458 L2-Train Loss: 0.013357\n",
      "Epoch: 18000 Train Loss: 0.001246 L2-Train Loss: 0.013433\n",
      "Epoch: 19000 Train Loss: 0.001348 L2-Train Loss: 0.014093\n"
     ]
    },
    {
     "name": "stderr",
     "output_type": "stream",
     "text": [
      "\r",
      " 40%|█████████████████████████████████▏                                                 | 4/10 [03:22<05:03, 50.59s/it]"
     ]
    },
    {
     "name": "stdout",
     "output_type": "stream",
     "text": [
      "Epoch: 20000 Train Loss: 0.001440 L2-Train Loss: 0.014769\n",
      "Epoch: 1 Train Loss: 0.564315 L2-Train Loss: 0.565284\n",
      "Epoch: 1000 Train Loss: 0.070041 L2-Train Loss: 0.072385\n",
      "Epoch: 2000 Train Loss: 0.026864 L2-Train Loss: 0.030248\n",
      "Epoch: 3000 Train Loss: 0.016828 L2-Train Loss: 0.021059\n",
      "Epoch: 4000 Train Loss: 0.011894 L2-Train Loss: 0.016817\n",
      "Epoch: 5000 Train Loss: 0.008583 L2-Train Loss: 0.014157\n",
      "Epoch: 6000 Train Loss: 0.006706 L2-Train Loss: 0.012860\n",
      "Epoch: 7000 Train Loss: 0.005006 L2-Train Loss: 0.011797\n",
      "Epoch: 8000 Train Loss: 0.004306 L2-Train Loss: 0.011572\n",
      "Epoch: 9000 Train Loss: 0.003337 L2-Train Loss: 0.011218\n",
      "Epoch: 10000 Train Loss: 0.002588 L2-Train Loss: 0.010899\n",
      "Epoch: 11000 Train Loss: 0.002707 L2-Train Loss: 0.011613\n",
      "Epoch: 12000 Train Loss: 0.001790 L2-Train Loss: 0.011193\n",
      "Epoch: 13000 Train Loss: 0.001829 L2-Train Loss: 0.011771\n",
      "Epoch: 14000 Train Loss: 0.001637 L2-Train Loss: 0.012008\n",
      "Epoch: 15000 Train Loss: 0.001397 L2-Train Loss: 0.012187\n",
      "Epoch: 16000 Train Loss: 0.001262 L2-Train Loss: 0.012579\n",
      "Epoch: 17000 Train Loss: 0.001437 L2-Train Loss: 0.013208\n",
      "Epoch: 18000 Train Loss: 0.001359 L2-Train Loss: 0.013601\n",
      "Epoch: 19000 Train Loss: 0.001314 L2-Train Loss: 0.013923\n"
     ]
    },
    {
     "name": "stderr",
     "output_type": "stream",
     "text": [
      "\r",
      " 50%|█████████████████████████████████████████▌                                         | 5/10 [04:13<04:13, 50.70s/it]"
     ]
    },
    {
     "name": "stdout",
     "output_type": "stream",
     "text": [
      "Epoch: 20000 Train Loss: 0.000875 L2-Train Loss: 0.013883\n",
      "Epoch: 1 Train Loss: 0.528498 L2-Train Loss: 0.529517\n",
      "Epoch: 1000 Train Loss: 0.067210 L2-Train Loss: 0.069616\n",
      "Epoch: 2000 Train Loss: 0.027049 L2-Train Loss: 0.030494\n",
      "Epoch: 3000 Train Loss: 0.017641 L2-Train Loss: 0.021873\n",
      "Epoch: 4000 Train Loss: 0.012266 L2-Train Loss: 0.017250\n",
      "Epoch: 5000 Train Loss: 0.009533 L2-Train Loss: 0.015180\n",
      "Epoch: 6000 Train Loss: 0.006731 L2-Train Loss: 0.012978\n",
      "Epoch: 7000 Train Loss: 0.005552 L2-Train Loss: 0.012252\n",
      "Epoch: 8000 Train Loss: 0.004316 L2-Train Loss: 0.011642\n",
      "Epoch: 9000 Train Loss: 0.003559 L2-Train Loss: 0.011386\n",
      "Epoch: 10000 Train Loss: 0.003431 L2-Train Loss: 0.011775\n",
      "Epoch: 11000 Train Loss: 0.003031 L2-Train Loss: 0.011934\n",
      "Epoch: 12000 Train Loss: 0.002433 L2-Train Loss: 0.011805\n",
      "Epoch: 13000 Train Loss: 0.001914 L2-Train Loss: 0.011830\n",
      "Epoch: 14000 Train Loss: 0.002383 L2-Train Loss: 0.012704\n",
      "Epoch: 15000 Train Loss: 0.001901 L2-Train Loss: 0.012634\n",
      "Epoch: 16000 Train Loss: 0.001575 L2-Train Loss: 0.012758\n",
      "Epoch: 17000 Train Loss: 0.002022 L2-Train Loss: 0.013586\n",
      "Epoch: 18000 Train Loss: 0.001341 L2-Train Loss: 0.013444\n",
      "Epoch: 19000 Train Loss: 0.001696 L2-Train Loss: 0.014336\n"
     ]
    },
    {
     "name": "stderr",
     "output_type": "stream",
     "text": [
      "\r",
      " 60%|█████████████████████████████████████████████████▊                                 | 6/10 [05:03<03:22, 50.58s/it]"
     ]
    },
    {
     "name": "stdout",
     "output_type": "stream",
     "text": [
      "Epoch: 20000 Train Loss: 0.001408 L2-Train Loss: 0.014512\n",
      "Epoch: 1 Train Loss: 0.523960 L2-Train Loss: 0.524917\n",
      "Epoch: 1000 Train Loss: 0.071418 L2-Train Loss: 0.073756\n",
      "Epoch: 2000 Train Loss: 0.026591 L2-Train Loss: 0.030019\n",
      "Epoch: 3000 Train Loss: 0.017182 L2-Train Loss: 0.021408\n",
      "Epoch: 4000 Train Loss: 0.011866 L2-Train Loss: 0.016758\n",
      "Epoch: 5000 Train Loss: 0.009499 L2-Train Loss: 0.015065\n",
      "Epoch: 6000 Train Loss: 0.007796 L2-Train Loss: 0.013901\n",
      "Epoch: 7000 Train Loss: 0.006437 L2-Train Loss: 0.013108\n",
      "Epoch: 8000 Train Loss: 0.004371 L2-Train Loss: 0.011531\n",
      "Epoch: 9000 Train Loss: 0.004007 L2-Train Loss: 0.011678\n",
      "Epoch: 10000 Train Loss: 0.003554 L2-Train Loss: 0.011685\n",
      "Epoch: 11000 Train Loss: 0.003091 L2-Train Loss: 0.011654\n",
      "Epoch: 12000 Train Loss: 0.002253 L2-Train Loss: 0.011252\n",
      "Epoch: 13000 Train Loss: 0.002152 L2-Train Loss: 0.011676\n",
      "Epoch: 14000 Train Loss: 0.002013 L2-Train Loss: 0.012028\n",
      "Epoch: 15000 Train Loss: 0.002001 L2-Train Loss: 0.012531\n",
      "Epoch: 16000 Train Loss: 0.002094 L2-Train Loss: 0.013058\n",
      "Epoch: 17000 Train Loss: 0.001601 L2-Train Loss: 0.013139\n",
      "Epoch: 18000 Train Loss: 0.001682 L2-Train Loss: 0.013677\n",
      "Epoch: 19000 Train Loss: 0.001247 L2-Train Loss: 0.013536\n"
     ]
    },
    {
     "name": "stderr",
     "output_type": "stream",
     "text": [
      "\r",
      " 70%|██████████████████████████████████████████████████████████                         | 7/10 [05:52<02:30, 50.11s/it]"
     ]
    },
    {
     "name": "stdout",
     "output_type": "stream",
     "text": [
      "Epoch: 20000 Train Loss: 0.001142 L2-Train Loss: 0.013850\n",
      "Epoch: 1 Train Loss: 0.540268 L2-Train Loss: 0.541276\n",
      "Epoch: 1000 Train Loss: 0.065033 L2-Train Loss: 0.067493\n",
      "Epoch: 2000 Train Loss: 0.027214 L2-Train Loss: 0.030687\n",
      "Epoch: 3000 Train Loss: 0.018739 L2-Train Loss: 0.022921\n",
      "Epoch: 4000 Train Loss: 0.013421 L2-Train Loss: 0.018267\n",
      "Epoch: 5000 Train Loss: 0.011573 L2-Train Loss: 0.016967\n",
      "Epoch: 6000 Train Loss: 0.008234 L2-Train Loss: 0.014262\n",
      "Epoch: 7000 Train Loss: 0.007245 L2-Train Loss: 0.013860\n",
      "Epoch: 8000 Train Loss: 0.005679 L2-Train Loss: 0.012850\n",
      "Epoch: 9000 Train Loss: 0.004913 L2-Train Loss: 0.012710\n",
      "Epoch: 10000 Train Loss: 0.004040 L2-Train Loss: 0.012345\n",
      "Epoch: 11000 Train Loss: 0.003352 L2-Train Loss: 0.012135\n",
      "Epoch: 12000 Train Loss: 0.003379 L2-Train Loss: 0.012651\n",
      "Epoch: 13000 Train Loss: 0.002681 L2-Train Loss: 0.012434\n",
      "Epoch: 14000 Train Loss: 0.002394 L2-Train Loss: 0.012704\n",
      "Epoch: 15000 Train Loss: 0.002107 L2-Train Loss: 0.012931\n",
      "Epoch: 16000 Train Loss: 0.001632 L2-Train Loss: 0.012961\n",
      "Epoch: 17000 Train Loss: 0.002076 L2-Train Loss: 0.013817\n",
      "Epoch: 18000 Train Loss: 0.001539 L2-Train Loss: 0.013716\n",
      "Epoch: 19000 Train Loss: 0.001145 L2-Train Loss: 0.013825\n"
     ]
    },
    {
     "name": "stderr",
     "output_type": "stream",
     "text": [
      "\r",
      " 80%|██████████████████████████████████████████████████████████████████▍                | 8/10 [06:43<01:40, 50.18s/it]"
     ]
    },
    {
     "name": "stdout",
     "output_type": "stream",
     "text": [
      "Epoch: 20000 Train Loss: 0.001372 L2-Train Loss: 0.014512\n",
      "Epoch: 1 Train Loss: 0.536376 L2-Train Loss: 0.537381\n",
      "Epoch: 1000 Train Loss: 0.071692 L2-Train Loss: 0.074109\n",
      "Epoch: 2000 Train Loss: 0.027956 L2-Train Loss: 0.031465\n",
      "Epoch: 3000 Train Loss: 0.017794 L2-Train Loss: 0.022087\n",
      "Epoch: 4000 Train Loss: 0.013125 L2-Train Loss: 0.018097\n",
      "Epoch: 5000 Train Loss: 0.010108 L2-Train Loss: 0.015716\n",
      "Epoch: 6000 Train Loss: 0.007678 L2-Train Loss: 0.014012\n",
      "Epoch: 7000 Train Loss: 0.005932 L2-Train Loss: 0.012875\n",
      "Epoch: 8000 Train Loss: 0.005082 L2-Train Loss: 0.012483\n",
      "Epoch: 9000 Train Loss: 0.003985 L2-Train Loss: 0.011909\n",
      "Epoch: 10000 Train Loss: 0.003378 L2-Train Loss: 0.011783\n",
      "Epoch: 11000 Train Loss: 0.003438 L2-Train Loss: 0.012331\n",
      "Epoch: 12000 Train Loss: 0.002597 L2-Train Loss: 0.011961\n",
      "Epoch: 13000 Train Loss: 0.002498 L2-Train Loss: 0.012315\n",
      "Epoch: 14000 Train Loss: 0.002208 L2-Train Loss: 0.012674\n",
      "Epoch: 15000 Train Loss: 0.001861 L2-Train Loss: 0.012881\n",
      "Epoch: 16000 Train Loss: 0.001636 L2-Train Loss: 0.013214\n",
      "Epoch: 17000 Train Loss: 0.002020 L2-Train Loss: 0.013957\n",
      "Epoch: 18000 Train Loss: 0.001628 L2-Train Loss: 0.014015\n",
      "Epoch: 19000 Train Loss: 0.001440 L2-Train Loss: 0.014188\n"
     ]
    },
    {
     "name": "stderr",
     "output_type": "stream",
     "text": [
      "\r",
      " 90%|██████████████████████████████████████████████████████████████████████████▋        | 9/10 [07:31<00:49, 49.63s/it]"
     ]
    },
    {
     "name": "stdout",
     "output_type": "stream",
     "text": [
      "Epoch: 20000 Train Loss: 0.001271 L2-Train Loss: 0.014395\n",
      "Epoch: 1 Train Loss: 0.555925 L2-Train Loss: 0.556951\n",
      "Epoch: 1000 Train Loss: 0.072536 L2-Train Loss: 0.074928\n",
      "Epoch: 2000 Train Loss: 0.025778 L2-Train Loss: 0.029302\n",
      "Epoch: 3000 Train Loss: 0.016168 L2-Train Loss: 0.020448\n",
      "Epoch: 4000 Train Loss: 0.012530 L2-Train Loss: 0.017513\n",
      "Epoch: 5000 Train Loss: 0.009345 L2-Train Loss: 0.014949\n",
      "Epoch: 6000 Train Loss: 0.007728 L2-Train Loss: 0.013918\n",
      "Epoch: 7000 Train Loss: 0.005354 L2-Train Loss: 0.012145\n",
      "Epoch: 8000 Train Loss: 0.004429 L2-Train Loss: 0.011795\n",
      "Epoch: 9000 Train Loss: 0.003707 L2-Train Loss: 0.011618\n",
      "Epoch: 10000 Train Loss: 0.002728 L2-Train Loss: 0.011182\n",
      "Epoch: 11000 Train Loss: 0.002754 L2-Train Loss: 0.011724\n",
      "Epoch: 12000 Train Loss: 0.002640 L2-Train Loss: 0.011964\n",
      "Epoch: 13000 Train Loss: 0.002137 L2-Train Loss: 0.011940\n",
      "Epoch: 14000 Train Loss: 0.002009 L2-Train Loss: 0.012247\n",
      "Epoch: 15000 Train Loss: 0.001835 L2-Train Loss: 0.012503\n",
      "Epoch: 16000 Train Loss: 0.001953 L2-Train Loss: 0.012998\n",
      "Epoch: 17000 Train Loss: 0.001649 L2-Train Loss: 0.013175\n",
      "Epoch: 18000 Train Loss: 0.001777 L2-Train Loss: 0.013677\n",
      "Epoch: 19000 Train Loss: 0.001489 L2-Train Loss: 0.013842\n"
     ]
    },
    {
     "name": "stderr",
     "output_type": "stream",
     "text": [
      "100%|██████████████████████████████████████████████████████████████████████████████████| 10/10 [08:20<00:00, 50.06s/it]"
     ]
    },
    {
     "name": "stdout",
     "output_type": "stream",
     "text": [
      "Epoch: 20000 Train Loss: 0.001516 L2-Train Loss: 0.014206\n",
      "Finish test particle_num=1024 cutoff = 100.00 avg_trainloss=1.447e-03 avg_L2_trainloss=1.424e-02\n"
     ]
    },
    {
     "name": "stderr",
     "output_type": "stream",
     "text": [
      "\n"
     ]
    }
   ],
   "source": [
    "output_result = True\n",
    "\n",
    "test_var = 'particle_num'\n",
    "test_values = [64,128,256,512,1024]\n",
    "# test_values = [256]\n",
    "\n",
    "test_time_per_objective = 10\n",
    "\n",
    "result_trainloss_set = []\n",
    "result_L2_trainloss_set = []\n",
    "result_testacc_set = []\n",
    "\n",
    "for test_value in test_values:\n",
    "    globals()[test_var] = test_value\n",
    "    \n",
    "    trainloss_current = []\n",
    "    L2_trainloss_current = []\n",
    "    \n",
    "    criterion = nn.MSELoss()\n",
    "    \n",
    "    for test_number in tqdm(range(test_time_per_objective)):\n",
    "        # Define the loss function and optimizer\n",
    "        net = Net(N=particle_num,cut_off=cut_off,activation_type =activation_type).to(device)\n",
    "\n",
    "        optimizer = FullGradientDescentWithNoisyAndWeightDecay(net.parameters(),particle_num, lr=lr,\n",
    "                                                                weight_decay = weight_decay, noise_scale = sigma)\n",
    "        # optimizer = torch.optim.SGD(net.parameters(), lr=lr)\n",
    "        # Train the network\n",
    "        epochs = 20000\n",
    "        train_losses = []\n",
    "        L2_train_losses = []\n",
    "        \n",
    "        net.train()\n",
    "        \n",
    "        for epoch in range(1, epochs + 1):\n",
    "            train_loss = 0.0\n",
    "            \n",
    "            optimizer.zero_grad()\n",
    "            output = net(data)\n",
    "\n",
    "            # loss =  trainloss(output, target).mean()\n",
    "            loss = trainloss(output, target).mean()\n",
    "\n",
    "            loss.backward()\n",
    "            optimizer.step()\n",
    "            \n",
    "            train_loss += loss.item() * data.size(0) \n",
    "            train_loss /= len(train_loader.dataset)\n",
    "            train_losses.append(train_loss)\n",
    "\n",
    "            squared_sum = 0\n",
    "            for param in net.parameters():\n",
    "                squared_sum += torch.sum(param.data ** 2) / particle_num\n",
    "\n",
    "            L2_trian_loss = train_loss + squared_sum.item() * weight_decay\n",
    "            L2_train_losses.append(L2_trian_loss)\n",
    "\n",
    "            if (epoch == 1 or epoch % 1000 == 0) and output_result:\n",
    "                print('Epoch: {} Train Loss: {:.6f} L2-Train Loss: {:.6f}'.format(\n",
    "                    epoch, train_loss, L2_trian_loss))\n",
    "                \n",
    "        trainloss_current.append(train_losses)\n",
    "        L2_trainloss_current.append(L2_train_losses)\n",
    "\n",
    "    result_trainloss_set.append(trainloss_current)\n",
    "    result_L2_trainloss_set.append(L2_trainloss_current)\n",
    "    \n",
    "    avg_trainloss_cur = np.mean(np.array(trainloss_current)[:,-500:])\n",
    "    avg_L2_trainloss =  np.mean(np.array(L2_trainloss_current)[:,-500:])\n",
    "    \n",
    "    print('Finish test %s=%d'%(test_var,globals()[test_var]),'cutoff = %.2f'%(cut_off),\n",
    "          'avg_trainloss=%.3e'%(avg_trainloss_cur), \n",
    "          'avg_L2_trainloss=%.3e'%(avg_L2_trainloss))"
   ]
  },
  {
   "cell_type": "markdown",
   "id": "a43b0683",
   "metadata": {},
   "source": [
    "## 数据存储"
   ]
  },
  {
   "cell_type": "code",
   "execution_count": null,
   "id": "c1f3ab0d",
   "metadata": {},
   "outputs": [],
   "source": [
    "# data save (serialize)\n",
    "\n",
    "with open('data_err_tested_0506_long_MSE.txt','wb') as f:\n",
    "#     pickle.dump({'err_train':err_train,'err_valid':err_valid,'predicts_list':predicts_list},f)  \n",
    "    pickle.dump({'result_trainloss_set':result_trainloss_set, 'result_L2_trainloss_set':result_L2_trainloss_set,'result_testacc_set':result_testacc_set},f)  "
   ]
  },
  {
   "cell_type": "markdown",
   "id": "1044e454",
   "metadata": {},
   "source": [
    "## 可视化"
   ]
  },
  {
   "cell_type": "code",
   "execution_count": 20,
   "id": "a5de951a",
   "metadata": {},
   "outputs": [],
   "source": [
    "def smooth_loss(loss_array, window_size=3):\n",
    "    \"\"\"\n",
    "    Smooths out a 1D array of loss values by replacing each value with the mean\n",
    "    of itself and its neighbors, within a given window size.\n",
    "    \n",
    "    Args:\n",
    "        loss_array (list or numpy array): 1D array of loss values to be smoothed\n",
    "        window_size (int): Size of the window for computing the mean, default is 3\n",
    "        \n",
    "    Returns:\n",
    "        smoothed_loss (numpy array): 1D array of smoothed loss values\n",
    "    \"\"\"\n",
    "    if window_size == 0:\n",
    "        return loss_array\n",
    "    \n",
    "    # Pad the array with zeros on either end to handle edge cases\n",
    "    padded_loss = np.pad(loss_array, (window_size//2, window_size//2), mode='edge')\n",
    "    \n",
    "    # Compute the rolling mean of the padded array\n",
    "    smoothed_loss = np.convolve(padded_loss, np.ones(window_size)/window_size, mode='valid')\n",
    "    \n",
    "    return smoothed_loss"
   ]
  },
  {
   "cell_type": "code",
   "execution_count": 54,
   "id": "407c4d98",
   "metadata": {
    "scrolled": false
   },
   "outputs": [
    {
     "name": "stdout",
     "output_type": "stream",
     "text": [
      "[64, 128, 256, 512, 1024]\n"
     ]
    },
    {
     "data": {
      "image/png": "[encoded data removed]",
      "text/plain": [
       "<Figure size 400x350 with 1 Axes>"
      ]
     },
     "metadata": {},
     "output_type": "display_data"
    }
   ],
   "source": [
    "# log 2 loss versus interation numbers, different test var, restore the test info at first\n",
    "\n",
    "# test_var = 'c_cutoff'\n",
    "# test_values = [1,2,5,10,20]\n",
    "\n",
    "test_var = 'particle_num'\n",
    "try:\n",
    "    print(test_values)\n",
    "except:\n",
    "    test_values = [32,64,128,256,512]\n",
    "test_values = [64,128,256,512,1024]\n",
    "\n",
    "log_wise_step = False\n",
    "log_wise_loss = True\n",
    "minus_minimum = False\n",
    "\n",
    "# colors = sns.color_palette(\"Paired\")[1:len(test_values)+1]\n",
    "colors = [sns.xkcd_rgb['pale red'],sns.xkcd_rgb['medium green'], sns.xkcd_rgb['denim blue'],'purple',sns.xkcd_rgb['orange'],'yellow','black','brown']\n",
    "\n",
    "\n",
    "fig = plt.figure(figsize=(4,3.5))\n",
    "ax1 = fig.add_subplot(111)\n",
    "# ax2 = fig.add_subplot(122)\n",
    "\n",
    "axs = [ax1,ax2]\n",
    "labels = ['train\\ loss', 'L2\\ regularized\\ train\\ loss']\n",
    "\n",
    "for idx, losses in enumerate([result_trainloss_set, result_L2_trainloss_set]):\n",
    "    if idx == 1:\n",
    "        continue\n",
    "    ax = axs[idx]\n",
    "    losses = np.array(losses)\n",
    "\n",
    "    I = np.array(losses).shape[-1]\n",
    "\n",
    "    eps = 1e-6\n",
    "    smooth_window_size = 111\n",
    "    obser_end = int(losses.shape[-1] * 1) \n",
    "\n",
    "    xplot_set = np.arange(I) if log_wise_loss else np.arange(I-1)\n",
    "\n",
    "    for idx_ in range(len(test_values)):\n",
    "\n",
    "        globals()[test_var] = test_values[idx_]\n",
    "\n",
    "        xplot_set = np.log2(np.arange(1,I+1)) if log_wise_step else np.arange(I)\n",
    "\n",
    "        for pending_list in losses[idx_]:\n",
    "\n",
    "            yplot_set = smooth_loss(pending_list, window_size  = smooth_window_size)\n",
    "            yplot_set = np.log2(yplot_set - min(yplot_set) + eps) if minus_minimum else np.log10(yplot_set)\n",
    "\n",
    "            ax.plot(xplot_set[:obser_end],yplot_set[:obser_end],c=colors[idx_],alpha=0.05,zorder = 1)\n",
    "\n",
    "        yplot_set = np.mean(losses[idx_],axis=0)\n",
    "        yplot_set = smooth_loss(yplot_set, window_size  = smooth_window_size)\n",
    "        yplot_set = np.log2(yplot_set - min(yplot_set) + eps) if minus_minimum else np.log10(yplot_set)\n",
    "\n",
    "        ax.plot(xplot_set[:obser_end],yplot_set[:obser_end],linewidth = 2.5,\n",
    "                 zorder = -idx_,c=colors[idx_],label='N = %d'%(test_values[idx_]))\n",
    "\n",
    "    ax.legend(loc = 'upper right',ncol=1)\n",
    "#     ax.set_ylim(-8,-6)\n",
    "    ax.set_xlabel('$log_2 (Step)$') if log_wise_step else plt.xlabel('$Step$',fontsize=13)\n",
    "    ax.set_ylabel('$log_{10} (\\ \\\\frac{1}{N} F_t^N\\ )$',fontsize=13) \n",
    "    \n",
    "plt.savefig('sigmoid_paths.pdf', bbox_inches='tight')\n",
    "plt.show()\n",
    "\n"
   ]
  },
  {
   "cell_type": "markdown",
   "id": "3f8e24dc",
   "metadata": {},
   "source": [
    "## Fitting"
   ]
  },
  {
   "cell_type": "code",
   "execution_count": 55,
   "id": "b4ebec85",
   "metadata": {},
   "outputs": [],
   "source": [
    "from sklearn import linear_model\n",
    "\n",
    "trained_losses = []\n",
    "L2_trained_losses = []\n",
    "\n",
    "for idx, test_vulue in enumerate(test_values):\n",
    "    trained_losses_current = []\n",
    "    L2_trained_losses_current = []\n",
    "    \n",
    "    for test_number in range(len(result_trainloss_set[idx])):\n",
    "        trained_losses_current.append(np.mean(result_trainloss_set[idx][test_number][-500:]))\n",
    "        L2_trained_losses_current.append(np.mean(result_L2_trainloss_set[idx][test_number][-500:]))\n",
    "        \n",
    "    trained_losses.append(trained_losses_current)\n",
    "    L2_trained_losses.append(L2_trained_losses_current)\n",
    "    \n"
   ]
  },
  {
   "cell_type": "markdown",
   "id": "14007ab8",
   "metadata": {},
   "source": [
    "## Fixed alpha regression"
   ]
  },
  {
   "cell_type": "code",
   "execution_count": 56,
   "id": "b5bdf893",
   "metadata": {},
   "outputs": [
    {
     "name": "stdout",
     "output_type": "stream",
     "text": [
      "[64, 128, 256, 512, 1024]\n"
     ]
    }
   ],
   "source": [
    "test_time_per_objective = len(trained_losses_current)\n",
    "try:\n",
    "    print(test_values)\n",
    "except:\n",
    "    test_values = [32,64,128,256,512]\n",
    "\n",
    "test_values = np.array([test_values])\n",
    "all_data = (np.ones([test_time_per_objective,1]) * test_values).T.reshape(-1)\n",
    "trained_losses = np.array(trained_losses)\n",
    "L2_trained_losses =  np.array(L2_trained_losses)\n",
    "\n",
    "model = linear_model.LinearRegression()\n",
    "alpha = -1.0\n",
    "\n",
    "model.fit(all_data.reshape(-1,1)**(alpha), trained_losses.reshape(-1))\n",
    "w = model.coef_[0]\n",
    "b = model.intercept_\n",
    "\n",
    "model = linear_model.LinearRegression()\n",
    "alpha_l2 = -1.0\n",
    "          \n",
    "model.fit(all_data.reshape(-1,1)**(alpha_l2), L2_trained_losses.reshape(-1))\n",
    "w_l2 = model.coef_[0]\n",
    "b_l2 = model.intercept_\n"
   ]
  },
  {
   "cell_type": "markdown",
   "id": "c7793453",
   "metadata": {},
   "source": [
    "## Freed alpha fit"
   ]
  },
  {
   "cell_type": "code",
   "execution_count": 14,
   "id": "e53f9023",
   "metadata": {
    "scrolled": true
   },
   "outputs": [
    {
     "name": "stdout",
     "output_type": "stream",
     "text": [
      "  message: Optimization terminated successfully.\n",
      "  success: True\n",
      "   status: 0\n",
      "      fun: 4.1227823228408375e-06\n",
      "        x: [ 2.510e-02  3.841e+00 -1.057e+00]\n",
      "      nit: 41\n",
      "      jac: [ 3.759e-07 -4.387e-08 -4.599e-07]\n",
      " hess_inv: [[ 2.759e+00  9.840e+02 -8.175e+01]\n",
      "            [ 9.840e+02  5.909e+05 -4.639e+04]\n",
      "            [-8.175e+01 -4.639e+04  3.679e+03]]\n",
      "     nfev: 188\n",
      "     njev: 47\n"
     ]
    }
   ],
   "source": [
    "from scipy.optimize import minimize\n",
    "\n",
    "\n",
    "def loss(param):\n",
    "    C_1 = param[0]\n",
    "    C_2 = param[1]\n",
    "    alpha = param[2]\n",
    "    return np.mean((L2_trained_losses.reshape(-1) - C_1 - C_2 * all_data ** (alpha) )**2)\n",
    "\n",
    "method = 'BFGS'\n",
    "result = minimize(loss, x0=[0,0,0], method = method)\n",
    "print(result)\n",
    "\n",
    "b_l2, w_l2, alpha_l2 =  result.x"
   ]
  },
  {
   "cell_type": "code",
   "execution_count": 58,
   "id": "4d16ced7",
   "metadata": {},
   "outputs": [
    {
     "data": {
      "image/png": "[encoded data removed]",
      "text/plain": [
       "<Figure size 400x350 with 1 Axes>"
      ]
     },
     "metadata": {},
     "output_type": "display_data"
    }
   ],
   "source": [
    "# log 2 terminal loss versus different test var\n",
    "\n",
    "# test_var = 'c_cutoff'\n",
    "# test_values = [1,2,5,10,20]\n",
    "\n",
    "fig = plt.figure(figsize=(4,3.5))\n",
    "ax1 = fig.add_subplot(111)\n",
    "# ax2 = fig.add_subplot(122)\n",
    "\n",
    "axs = [ax1,ax2]\n",
    "labels = ['train\\ loss', 'L2\\ regularized\\ train\\ loss']\n",
    "ws = [w, w_l2]\n",
    "bs = [b, b_l2]\n",
    "alphas = [alpha, alpha_l2]\n",
    "logwise_loss = True\n",
    "\n",
    "for idx, trained_losses_data in enumerate([trained_losses, L2_trained_losses]):\n",
    "    if idx == 1:\n",
    "        continue\n",
    "    ax = axs[idx]\n",
    "    w_plot = ws[idx]\n",
    "    b_plot = bs[idx]\n",
    "    alpha_plot = alphas[idx]\n",
    "    \n",
    "    avg_trained_loss_vec = np.mean(trained_losses_data,axis=1)\n",
    "\n",
    "    all_data = (np.ones([test_time_per_objective,1]) * test_values).T.reshape(-1)\n",
    "    \n",
    "    xplot_all = np.log2(all_data.copy()) if logwise_loss else all_data.copy()\n",
    "    xplot = np.log2(test_values.reshape(-1).copy()) if logwise_loss else test_values.reshape(-1).copy()\n",
    "    yplot_all = np.log10(trained_losses_data.reshape(-1).copy()) if logwise_loss else trained_losses_data.reshape(-1).copy()\n",
    "    yplot =  np.log10(avg_trained_loss_vec.copy())if logwise_loss else avg_trained_loss_vec.copy()\n",
    "    yplot_predict = np.log10(b_plot + w_plot * test_values.reshape(-1) ** (alpha_plot)) if logwise_loss else b_plot + w_plot * test_values.reshape(-1) ** (alpha_plot)\n",
    "    \n",
    "    ax.scatter(xplot_all,yplot_all,color='none',marker='o',edgecolors='k',linewidths=1,label='Experiment result')\n",
    "    ax.plot(xplot,yplot,c='k',marker='s',markersize=8,label='Averange value')\n",
    "    ax.plot(xplot, yplot_predict,'--', marker='o', c= 'grey', label='Fitted curve: \\n    $y= %.3f + %.3f N^{%.3f}$'%(b_plot,w_plot,alpha_plot),alpha=0.6)\n",
    "\n",
    "    ax.legend()\n",
    "    \n",
    "    if logwise_loss:\n",
    "        ax.set_xlabel('$\\log_{2} (N)$',fontsize=13)\n",
    "        ax.set_ylabel('$log_{10} (\\ \\\\frac{1}{N} F_T^N\\ )$',fontsize=13) \n",
    "    else:\n",
    "        ax.set_xlabel('$N$')\n",
    "        ax.set_ylabel('$%s$'%(labels[idx]),) \n",
    "        \n",
    "plt.savefig('sigmoid_losses.pdf', bbox_inches='tight')\n",
    "plt.show()\n"
   ]
  },
  {
   "cell_type": "markdown",
   "id": "702c10a7",
   "metadata": {},
   "source": [
    "##  Cross Validate"
   ]
  },
  {
   "cell_type": "code",
   "execution_count": 21,
   "id": "83b0b721",
   "metadata": {},
   "outputs": [
    {
     "name": "stderr",
     "output_type": "stream",
     "text": [
      "[1/20] Loss: 0.5577, Acc: 0.8501, Test Loss: 0.1394, Test Acc: 0.9563: 100%|███████| 235/235 [00:17<00:00, 13.64step/s]\n",
      "[2/20] Loss: 0.1231, Acc: 0.9648:  44%|███████████████████▎                        | 103/235 [00:06<00:07, 16.76step/s]\n"
     ]
    },
    {
     "ename": "KeyboardInterrupt",
     "evalue": "",
     "output_type": "error",
     "traceback": [
      "\u001b[1;31m---------------------------------------------------------------------------\u001b[0m",
      "\u001b[1;31mKeyboardInterrupt\u001b[0m                         Traceback (most recent call last)",
      "Cell \u001b[1;32mIn[21], line 86\u001b[0m\n\u001b[0;32m     84\u001b[0m model\u001b[38;5;241m.\u001b[39mtrain(\u001b[38;5;28;01mTrue\u001b[39;00m)\n\u001b[0;32m     85\u001b[0m train_loss, train_correct \u001b[38;5;241m=\u001b[39m \u001b[38;5;241m0\u001b[39m, \u001b[38;5;241m0\u001b[39m\n\u001b[1;32m---> 86\u001b[0m \u001b[38;5;28;01mfor\u001b[39;00m step, (train_imgs, labels) \u001b[38;5;129;01min\u001b[39;00m \u001b[38;5;28menumerate\u001b[39m(processBar):\n\u001b[0;32m     88\u001b[0m     \u001b[38;5;28;01mif\u001b[39;00m torch\u001b[38;5;241m.\u001b[39mcuda\u001b[38;5;241m.\u001b[39mis_available():  \u001b[38;5;66;03m# GPU可用\u001b[39;00m\n\u001b[0;32m     89\u001b[0m         train_imgs \u001b[38;5;241m=\u001b[39m train_imgs\u001b[38;5;241m.\u001b[39mcuda()\n",
      "File \u001b[1;32mF:\\miniconda\\envs\\py310\\lib\\site-packages\\tqdm\\std.py:1178\u001b[0m, in \u001b[0;36mtqdm.__iter__\u001b[1;34m(self)\u001b[0m\n\u001b[0;32m   1175\u001b[0m time \u001b[38;5;241m=\u001b[39m \u001b[38;5;28mself\u001b[39m\u001b[38;5;241m.\u001b[39m_time\n\u001b[0;32m   1177\u001b[0m \u001b[38;5;28;01mtry\u001b[39;00m:\n\u001b[1;32m-> 1178\u001b[0m     \u001b[38;5;28;01mfor\u001b[39;00m obj \u001b[38;5;129;01min\u001b[39;00m iterable:\n\u001b[0;32m   1179\u001b[0m         \u001b[38;5;28;01myield\u001b[39;00m obj\n\u001b[0;32m   1180\u001b[0m         \u001b[38;5;66;03m# Update and possibly print the progressbar.\u001b[39;00m\n\u001b[0;32m   1181\u001b[0m         \u001b[38;5;66;03m# Note: does not call self.update(1) for speed optimisation.\u001b[39;00m\n",
      "File \u001b[1;32mF:\\miniconda\\envs\\py310\\lib\\site-packages\\torch\\utils\\data\\dataloader.py:634\u001b[0m, in \u001b[0;36m_BaseDataLoaderIter.__next__\u001b[1;34m(self)\u001b[0m\n\u001b[0;32m    631\u001b[0m \u001b[38;5;28;01mif\u001b[39;00m \u001b[38;5;28mself\u001b[39m\u001b[38;5;241m.\u001b[39m_sampler_iter \u001b[38;5;129;01mis\u001b[39;00m \u001b[38;5;28;01mNone\u001b[39;00m:\n\u001b[0;32m    632\u001b[0m     \u001b[38;5;66;03m# TODO(https://github.com/pytorch/pytorch/issues/76750)\u001b[39;00m\n\u001b[0;32m    633\u001b[0m     \u001b[38;5;28mself\u001b[39m\u001b[38;5;241m.\u001b[39m_reset()  \u001b[38;5;66;03m# type: ignore[call-arg]\u001b[39;00m\n\u001b[1;32m--> 634\u001b[0m data \u001b[38;5;241m=\u001b[39m \u001b[38;5;28;43mself\u001b[39;49m\u001b[38;5;241;43m.\u001b[39;49m\u001b[43m_next_data\u001b[49m\u001b[43m(\u001b[49m\u001b[43m)\u001b[49m\n\u001b[0;32m    635\u001b[0m \u001b[38;5;28mself\u001b[39m\u001b[38;5;241m.\u001b[39m_num_yielded \u001b[38;5;241m+\u001b[39m\u001b[38;5;241m=\u001b[39m \u001b[38;5;241m1\u001b[39m\n\u001b[0;32m    636\u001b[0m \u001b[38;5;28;01mif\u001b[39;00m \u001b[38;5;28mself\u001b[39m\u001b[38;5;241m.\u001b[39m_dataset_kind \u001b[38;5;241m==\u001b[39m _DatasetKind\u001b[38;5;241m.\u001b[39mIterable \u001b[38;5;129;01mand\u001b[39;00m \\\n\u001b[0;32m    637\u001b[0m         \u001b[38;5;28mself\u001b[39m\u001b[38;5;241m.\u001b[39m_IterableDataset_len_called \u001b[38;5;129;01mis\u001b[39;00m \u001b[38;5;129;01mnot\u001b[39;00m \u001b[38;5;28;01mNone\u001b[39;00m \u001b[38;5;129;01mand\u001b[39;00m \\\n\u001b[0;32m    638\u001b[0m         \u001b[38;5;28mself\u001b[39m\u001b[38;5;241m.\u001b[39m_num_yielded \u001b[38;5;241m>\u001b[39m \u001b[38;5;28mself\u001b[39m\u001b[38;5;241m.\u001b[39m_IterableDataset_len_called:\n",
      "File \u001b[1;32mF:\\miniconda\\envs\\py310\\lib\\site-packages\\torch\\utils\\data\\dataloader.py:678\u001b[0m, in \u001b[0;36m_SingleProcessDataLoaderIter._next_data\u001b[1;34m(self)\u001b[0m\n\u001b[0;32m    676\u001b[0m \u001b[38;5;28;01mdef\u001b[39;00m \u001b[38;5;21m_next_data\u001b[39m(\u001b[38;5;28mself\u001b[39m):\n\u001b[0;32m    677\u001b[0m     index \u001b[38;5;241m=\u001b[39m \u001b[38;5;28mself\u001b[39m\u001b[38;5;241m.\u001b[39m_next_index()  \u001b[38;5;66;03m# may raise StopIteration\u001b[39;00m\n\u001b[1;32m--> 678\u001b[0m     data \u001b[38;5;241m=\u001b[39m \u001b[38;5;28;43mself\u001b[39;49m\u001b[38;5;241;43m.\u001b[39;49m\u001b[43m_dataset_fetcher\u001b[49m\u001b[38;5;241;43m.\u001b[39;49m\u001b[43mfetch\u001b[49m\u001b[43m(\u001b[49m\u001b[43mindex\u001b[49m\u001b[43m)\u001b[49m  \u001b[38;5;66;03m# may raise StopIteration\u001b[39;00m\n\u001b[0;32m    679\u001b[0m     \u001b[38;5;28;01mif\u001b[39;00m \u001b[38;5;28mself\u001b[39m\u001b[38;5;241m.\u001b[39m_pin_memory:\n\u001b[0;32m    680\u001b[0m         data \u001b[38;5;241m=\u001b[39m _utils\u001b[38;5;241m.\u001b[39mpin_memory\u001b[38;5;241m.\u001b[39mpin_memory(data, \u001b[38;5;28mself\u001b[39m\u001b[38;5;241m.\u001b[39m_pin_memory_device)\n",
      "File \u001b[1;32mF:\\miniconda\\envs\\py310\\lib\\site-packages\\torch\\utils\\data\\_utils\\fetch.py:51\u001b[0m, in \u001b[0;36m_MapDatasetFetcher.fetch\u001b[1;34m(self, possibly_batched_index)\u001b[0m\n\u001b[0;32m     49\u001b[0m         data \u001b[38;5;241m=\u001b[39m \u001b[38;5;28mself\u001b[39m\u001b[38;5;241m.\u001b[39mdataset\u001b[38;5;241m.\u001b[39m__getitems__(possibly_batched_index)\n\u001b[0;32m     50\u001b[0m     \u001b[38;5;28;01melse\u001b[39;00m:\n\u001b[1;32m---> 51\u001b[0m         data \u001b[38;5;241m=\u001b[39m [\u001b[38;5;28mself\u001b[39m\u001b[38;5;241m.\u001b[39mdataset[idx] \u001b[38;5;28;01mfor\u001b[39;00m idx \u001b[38;5;129;01min\u001b[39;00m possibly_batched_index]\n\u001b[0;32m     52\u001b[0m \u001b[38;5;28;01melse\u001b[39;00m:\n\u001b[0;32m     53\u001b[0m     data \u001b[38;5;241m=\u001b[39m \u001b[38;5;28mself\u001b[39m\u001b[38;5;241m.\u001b[39mdataset[possibly_batched_index]\n",
      "File \u001b[1;32mF:\\miniconda\\envs\\py310\\lib\\site-packages\\torch\\utils\\data\\_utils\\fetch.py:51\u001b[0m, in \u001b[0;36m<listcomp>\u001b[1;34m(.0)\u001b[0m\n\u001b[0;32m     49\u001b[0m         data \u001b[38;5;241m=\u001b[39m \u001b[38;5;28mself\u001b[39m\u001b[38;5;241m.\u001b[39mdataset\u001b[38;5;241m.\u001b[39m__getitems__(possibly_batched_index)\n\u001b[0;32m     50\u001b[0m     \u001b[38;5;28;01melse\u001b[39;00m:\n\u001b[1;32m---> 51\u001b[0m         data \u001b[38;5;241m=\u001b[39m [\u001b[38;5;28;43mself\u001b[39;49m\u001b[38;5;241;43m.\u001b[39;49m\u001b[43mdataset\u001b[49m\u001b[43m[\u001b[49m\u001b[43midx\u001b[49m\u001b[43m]\u001b[49m \u001b[38;5;28;01mfor\u001b[39;00m idx \u001b[38;5;129;01min\u001b[39;00m possibly_batched_index]\n\u001b[0;32m     52\u001b[0m \u001b[38;5;28;01melse\u001b[39;00m:\n\u001b[0;32m     53\u001b[0m     data \u001b[38;5;241m=\u001b[39m \u001b[38;5;28mself\u001b[39m\u001b[38;5;241m.\u001b[39mdataset[possibly_batched_index]\n",
      "File \u001b[1;32mF:\\miniconda\\envs\\py310\\lib\\site-packages\\torchvision\\datasets\\mnist.py:145\u001b[0m, in \u001b[0;36mMNIST.__getitem__\u001b[1;34m(self, index)\u001b[0m\n\u001b[0;32m    142\u001b[0m img \u001b[38;5;241m=\u001b[39m Image\u001b[38;5;241m.\u001b[39mfromarray(img\u001b[38;5;241m.\u001b[39mnumpy(), mode\u001b[38;5;241m=\u001b[39m\u001b[38;5;124m\"\u001b[39m\u001b[38;5;124mL\u001b[39m\u001b[38;5;124m\"\u001b[39m)\n\u001b[0;32m    144\u001b[0m \u001b[38;5;28;01mif\u001b[39;00m \u001b[38;5;28mself\u001b[39m\u001b[38;5;241m.\u001b[39mtransform \u001b[38;5;129;01mis\u001b[39;00m \u001b[38;5;129;01mnot\u001b[39;00m \u001b[38;5;28;01mNone\u001b[39;00m:\n\u001b[1;32m--> 145\u001b[0m     img \u001b[38;5;241m=\u001b[39m \u001b[38;5;28;43mself\u001b[39;49m\u001b[38;5;241;43m.\u001b[39;49m\u001b[43mtransform\u001b[49m\u001b[43m(\u001b[49m\u001b[43mimg\u001b[49m\u001b[43m)\u001b[49m\n\u001b[0;32m    147\u001b[0m \u001b[38;5;28;01mif\u001b[39;00m \u001b[38;5;28mself\u001b[39m\u001b[38;5;241m.\u001b[39mtarget_transform \u001b[38;5;129;01mis\u001b[39;00m \u001b[38;5;129;01mnot\u001b[39;00m \u001b[38;5;28;01mNone\u001b[39;00m:\n\u001b[0;32m    148\u001b[0m     target \u001b[38;5;241m=\u001b[39m \u001b[38;5;28mself\u001b[39m\u001b[38;5;241m.\u001b[39mtarget_transform(target)\n",
      "File \u001b[1;32mF:\\miniconda\\envs\\py310\\lib\\site-packages\\torchvision\\transforms\\transforms.py:95\u001b[0m, in \u001b[0;36mCompose.__call__\u001b[1;34m(self, img)\u001b[0m\n\u001b[0;32m     93\u001b[0m \u001b[38;5;28;01mdef\u001b[39;00m \u001b[38;5;21m__call__\u001b[39m(\u001b[38;5;28mself\u001b[39m, img):\n\u001b[0;32m     94\u001b[0m     \u001b[38;5;28;01mfor\u001b[39;00m t \u001b[38;5;129;01min\u001b[39;00m \u001b[38;5;28mself\u001b[39m\u001b[38;5;241m.\u001b[39mtransforms:\n\u001b[1;32m---> 95\u001b[0m         img \u001b[38;5;241m=\u001b[39m \u001b[43mt\u001b[49m\u001b[43m(\u001b[49m\u001b[43mimg\u001b[49m\u001b[43m)\u001b[49m\n\u001b[0;32m     96\u001b[0m     \u001b[38;5;28;01mreturn\u001b[39;00m img\n",
      "File \u001b[1;32mF:\\miniconda\\envs\\py310\\lib\\site-packages\\torchvision\\transforms\\transforms.py:137\u001b[0m, in \u001b[0;36mToTensor.__call__\u001b[1;34m(self, pic)\u001b[0m\n\u001b[0;32m    129\u001b[0m \u001b[38;5;28;01mdef\u001b[39;00m \u001b[38;5;21m__call__\u001b[39m(\u001b[38;5;28mself\u001b[39m, pic):\n\u001b[0;32m    130\u001b[0m \u001b[38;5;250m    \u001b[39m\u001b[38;5;124;03m\"\"\"\u001b[39;00m\n\u001b[0;32m    131\u001b[0m \u001b[38;5;124;03m    Args:\u001b[39;00m\n\u001b[0;32m    132\u001b[0m \u001b[38;5;124;03m        pic (PIL Image or numpy.ndarray): Image to be converted to tensor.\u001b[39;00m\n\u001b[1;32m   (...)\u001b[0m\n\u001b[0;32m    135\u001b[0m \u001b[38;5;124;03m        Tensor: Converted image.\u001b[39;00m\n\u001b[0;32m    136\u001b[0m \u001b[38;5;124;03m    \"\"\"\u001b[39;00m\n\u001b[1;32m--> 137\u001b[0m     \u001b[38;5;28;01mreturn\u001b[39;00m \u001b[43mF\u001b[49m\u001b[38;5;241;43m.\u001b[39;49m\u001b[43mto_tensor\u001b[49m\u001b[43m(\u001b[49m\u001b[43mpic\u001b[49m\u001b[43m)\u001b[49m\n",
      "File \u001b[1;32mF:\\miniconda\\envs\\py310\\lib\\site-packages\\torchvision\\transforms\\functional.py:174\u001b[0m, in \u001b[0;36mto_tensor\u001b[1;34m(pic)\u001b[0m\n\u001b[0;32m    172\u001b[0m img \u001b[38;5;241m=\u001b[39m img\u001b[38;5;241m.\u001b[39mpermute((\u001b[38;5;241m2\u001b[39m, \u001b[38;5;241m0\u001b[39m, \u001b[38;5;241m1\u001b[39m))\u001b[38;5;241m.\u001b[39mcontiguous()\n\u001b[0;32m    173\u001b[0m \u001b[38;5;28;01mif\u001b[39;00m \u001b[38;5;28misinstance\u001b[39m(img, torch\u001b[38;5;241m.\u001b[39mByteTensor):\n\u001b[1;32m--> 174\u001b[0m     \u001b[38;5;28;01mreturn\u001b[39;00m \u001b[43mimg\u001b[49m\u001b[38;5;241;43m.\u001b[39;49m\u001b[43mto\u001b[49m\u001b[43m(\u001b[49m\u001b[43mdtype\u001b[49m\u001b[38;5;241;43m=\u001b[39;49m\u001b[43mdefault_float_dtype\u001b[49m\u001b[43m)\u001b[49m\u001b[38;5;241m.\u001b[39mdiv(\u001b[38;5;241m255\u001b[39m)\n\u001b[0;32m    175\u001b[0m \u001b[38;5;28;01melse\u001b[39;00m:\n\u001b[0;32m    176\u001b[0m     \u001b[38;5;28;01mreturn\u001b[39;00m img\n",
      "\u001b[1;31mKeyboardInterrupt\u001b[0m: "
     ]
    }
   ],
   "source": [
    "\n",
    "import torch\n",
    "from matplotlib import pyplot as plt\n",
    "from torch import nn, optim\n",
    "# from torch.autograd import Variable\n",
    "from torch.utils.data import DataLoader\n",
    "from torchvision import datasets, transforms\n",
    "from tqdm import tqdm\n",
    "from matplotlib.ticker import MaxNLocator\n",
    " \n",
    "# 超参数\n",
    "batch_size = 256  # 批大小\n",
    "learning_rate = 0.0001  # 学习率\n",
    "epochs = 20  # 迭代次数\n",
    "channels = 1  # 图像通道大小\n",
    " \n",
    "# 数据集下载和预处理\n",
    "transform = transforms.Compose([transforms.ToTensor(),  # 将图片转换成PyTorch中处理的对象Tensor,并且进行标准化0-1\n",
    "                                transforms.Normalize([0.5], [0.5])])  # 归一化处理\n",
    "path = './data/'  # 数据集下载后保存的目录\n",
    "# 下载训练集和测试集\n",
    "trainData = datasets.MNIST(path, train=True, transform=transform, download=True)\n",
    "testData = datasets.MNIST(path, train=False, transform=transform)\n",
    "# 处理成data loader\n",
    "trainDataLoader = torch.utils.data.DataLoader(dataset=trainData, batch_size=batch_size, shuffle=True)  # 批量读取并打乱\n",
    "testDataLoader = torch.utils.data.DataLoader(dataset=testData, batch_size=batch_size)\n",
    " \n",
    " \n",
    "# 开始构建cnn模型\n",
    "class cnn(torch.nn.Module):\n",
    "    def __init__(self):\n",
    "        super(cnn, self).__init__()\n",
    "        self.model = torch.nn.Sequential(\n",
    "            # The size of the picture is 28*28\n",
    "            torch.nn.Conv2d(in_channels=1, out_channels=32, kernel_size=3, stride=1, padding=1),\n",
    "            torch.nn.ReLU(),\n",
    "            torch.nn.MaxPool2d(kernel_size=2, stride=2),\n",
    " \n",
    "            # The size of the picture is 14*14\n",
    "            torch.nn.Conv2d(in_channels=32, out_channels=64, kernel_size=3, stride=1, padding=1),\n",
    "            torch.nn.ReLU(),\n",
    "            torch.nn.MaxPool2d(kernel_size=2, stride=2),\n",
    "            #\n",
    "            # The size of the picture is 7*7\n",
    "            torch.nn.Conv2d(in_channels=64, out_channels=128, kernel_size=3, stride=1, padding=1),\n",
    "            torch.nn.ReLU(),\n",
    "            # torch.nn.MaxPool2d(kernel_size=2, stride=2),\n",
    " \n",
    "            # The size of the picture is 7*7\n",
    "            torch.nn.Conv2d(in_channels=128, out_channels=256, kernel_size=3, stride=1, padding=1),\n",
    "            torch.nn.ReLU(),\n",
    "            # torch.nn.MaxPool2d(kernel_size=2, stride=2),\n",
    " \n",
    "            torch.nn.Flatten(),\n",
    "            torch.nn.Linear(in_features=7 * 7 * 256, out_features=512),\n",
    "            torch.nn.ReLU(),\n",
    "            torch.nn.Dropout(0.2),  # 抑制过拟合 随机丢掉一些节点\n",
    "            torch.nn.Linear(in_features=512, out_features=10),\n",
    "            # torch.nn.Softmax(dim=1) # pytorch的交叉熵函数其实是softmax-log-NLL 所以这里的输出就不需要再softmax了\n",
    "        )\n",
    " \n",
    "    def forward(self, input):\n",
    "        output = self.model(input)\n",
    "        return output\n",
    " \n",
    " \n",
    "# 选择模型\n",
    "model = cnn()\n",
    "# GPU可用时转到cuda上执行\n",
    "if torch.cuda.is_available():\n",
    "    model = model.cuda()\n",
    " \n",
    "criterion = nn.CrossEntropyLoss()  # 选用交叉熵函数作为损失函数\n",
    "optimizer = optim.Adam(model.parameters(), lr=learning_rate)\n",
    "# optimizer = optim.Adam(model.parameters())\n",
    " \n",
    "# 训练模型并存储训练时的指标\n",
    "epoch = 1\n",
    "history = {'Train Loss': [],\n",
    "           'Test Loss': [],\n",
    "           'Train Acc': [],\n",
    "           'Test Acc': []}\n",
    "for epoch in range(1, epochs+1):\n",
    "    processBar = tqdm(trainDataLoader, unit='step')\n",
    "    model.train(True)\n",
    "    train_loss, train_correct = 0, 0\n",
    "    for step, (train_imgs, labels) in enumerate(processBar):\n",
    " \n",
    "        if torch.cuda.is_available():  # GPU可用\n",
    "            train_imgs = train_imgs.cuda()\n",
    "            labels = labels.cuda()\n",
    "        model.zero_grad()  # 梯度清零\n",
    "        outputs = model(train_imgs)  # 输入训练集\n",
    "        loss = criterion(outputs, labels)  # 计算损失函数\n",
    "        predictions = torch.argmax(outputs, dim=1)  # 得到预测值\n",
    "        correct = torch.sum(predictions == labels)\n",
    "        accuracy = correct / labels.shape[0]  # 计算这一批次的正确率\n",
    "        loss.backward()  # 反向传播\n",
    "        optimizer.step()  # 更新优化器参数\n",
    "        processBar.set_description(\"[%d/%d] Loss: %.4f, Acc: %.4f\" %  # 可视化训练进度条设置\n",
    "                                   (epoch, epochs, loss.item(), accuracy.item()))\n",
    " \n",
    "        # 记录下训练的指标\n",
    "        train_loss = train_loss + loss\n",
    "        train_correct = train_correct + correct\n",
    " \n",
    "        # 当所有训练数据都进行了一次训练后，在验证集进行验证\n",
    "        if step == len(processBar) - 1:\n",
    "            tst_correct, totalLoss = 0, 0\n",
    "            model.train(False)  # 开始测试\n",
    "            model.eval()  # 固定模型的参数并在测试阶段不计算梯度\n",
    "            with torch.no_grad():\n",
    "                for test_imgs, test_labels in testDataLoader:\n",
    "                    if torch.cuda.is_available():\n",
    "                        test_imgs = test_imgs.cuda()\n",
    "                        test_labels = test_labels.cuda()\n",
    "                    tst_outputs = model(test_imgs)\n",
    "                    tst_loss = criterion(tst_outputs, test_labels)\n",
    "                    predictions = torch.argmax(tst_outputs, dim=1)\n",
    " \n",
    "                    totalLoss += tst_loss\n",
    "                    tst_correct += torch.sum(predictions == test_labels)\n",
    " \n",
    "                train_accuracy = train_correct / len(trainDataLoader.dataset)\n",
    "                train_loss = train_loss / len(trainDataLoader)  # 累加loss后除以步数即为平均loss值\n",
    " \n",
    "                test_accuracy = tst_correct / len(testDataLoader.dataset)  # 累加正确数除以样本数即为验证集正确率\n",
    "                test_loss = totalLoss / len(testDataLoader)  # 累加loss后除以步数即为平均loss值\n",
    " \n",
    "                history['Train Loss'].append(train_loss.item())  # 记录loss和acc\n",
    "                history['Train Acc'].append(train_accuracy.item())\n",
    "                history['Test Loss'].append(test_loss.item())\n",
    "                history['Test Acc'].append(test_accuracy.item())\n",
    " \n",
    "                processBar.set_description(\"[%d/%d] Loss: %.4f, Acc: %.4f, Test Loss: %.4f, Test Acc: %.4f\" %\n",
    "                                           (epoch, epochs, train_loss.item(), train_accuracy.item(), test_loss.item(),\n",
    "                                            test_accuracy.item()))\n",
    "    processBar.close()\n",
    "\n",
    "plt.plot(history['Test Loss'], color='red', label='Test Loss')\n",
    "plt.plot(history['Train Loss'], label='Train Loss')\n",
    "plt.legend(loc='best')\n",
    "plt.grid(True)\n",
    "plt.xlabel('Epoch')\n",
    "plt.xlim([0, epoch])\n",
    "plt.gca().xaxis.set_major_locator(MaxNLocator(integer=True))\n",
    "plt.ylabel('Loss')\n",
    "plt.title('Train and Test LOSS')\n",
    "plt.legend(loc='upper right')\n",
    "plt.savefig('LOSS')\n",
    "plt.show()\n",
    " \n",
    "plt.plot(history['Test Acc'], color='red', label='Test Acc')\n",
    "plt.plot(history['Train Acc'], label='Train Acc')\n",
    "plt.legend(loc='best')\n",
    "plt.grid(True)\n",
    "plt.xlabel('Epoch')\n",
    "plt.xlim([0, epoch])\n",
    "plt.gca().xaxis.set_major_locator(MaxNLocator(integer=True))\n",
    "plt.ylabel('Accuracy')\n",
    "plt.title('Train and Test ACC')\n",
    "plt.legend(loc='lower right')\n",
    "plt.savefig('ACC')\n",
    "plt.show()\n",
    " \n"
   ]
  },
  {
   "cell_type": "code",
   "execution_count": null,
   "id": "8b4169eb",
   "metadata": {},
   "outputs": [],
   "source": []
  },
  {
   "cell_type": "code",
   "execution_count": null,
   "id": "b9a73599",
   "metadata": {},
   "outputs": [],
   "source": []
  },
  {
   "cell_type": "code",
   "execution_count": null,
   "id": "14636f97",
   "metadata": {},
   "outputs": [],
   "source": []
  },
  {
   "cell_type": "code",
   "execution_count": 29,
   "id": "5ae6925b",
   "metadata": {},
   "outputs": [
    {
     "ename": "RuntimeError",
     "evalue": "The size of tensor a (10) must match the size of tensor b (128) at non-singleton dimension 1",
     "output_type": "error",
     "traceback": [
      "\u001b[1;31m---------------------------------------------------------------------------\u001b[0m",
      "\u001b[1;31mRuntimeError\u001b[0m                              Traceback (most recent call last)",
      "Cell \u001b[1;32mIn[29], line 54\u001b[0m\n\u001b[0;32m     52\u001b[0m optimizer\u001b[38;5;241m.\u001b[39mzero_grad()\n\u001b[0;32m     53\u001b[0m output \u001b[38;5;241m=\u001b[39m model(data)\n\u001b[1;32m---> 54\u001b[0m loss \u001b[38;5;241m=\u001b[39m \u001b[43mcriterion\u001b[49m\u001b[43m(\u001b[49m\u001b[43moutput\u001b[49m\u001b[43m,\u001b[49m\u001b[43m \u001b[49m\u001b[43mtarget\u001b[49m\u001b[38;5;241;43m.\u001b[39;49m\u001b[43mfloat\u001b[49m\u001b[43m(\u001b[49m\u001b[43m)\u001b[49m\u001b[43m)\u001b[49m\n\u001b[0;32m     55\u001b[0m loss\u001b[38;5;241m.\u001b[39mbackward()\n\u001b[0;32m     56\u001b[0m optimizer\u001b[38;5;241m.\u001b[39mstep()\n",
      "File \u001b[1;32mF:\\miniconda\\envs\\py310\\lib\\site-packages\\torch\\nn\\modules\\module.py:1501\u001b[0m, in \u001b[0;36mModule._call_impl\u001b[1;34m(self, *args, **kwargs)\u001b[0m\n\u001b[0;32m   1496\u001b[0m \u001b[38;5;66;03m# If we don't have any hooks, we want to skip the rest of the logic in\u001b[39;00m\n\u001b[0;32m   1497\u001b[0m \u001b[38;5;66;03m# this function, and just call forward.\u001b[39;00m\n\u001b[0;32m   1498\u001b[0m \u001b[38;5;28;01mif\u001b[39;00m \u001b[38;5;129;01mnot\u001b[39;00m (\u001b[38;5;28mself\u001b[39m\u001b[38;5;241m.\u001b[39m_backward_hooks \u001b[38;5;129;01mor\u001b[39;00m \u001b[38;5;28mself\u001b[39m\u001b[38;5;241m.\u001b[39m_backward_pre_hooks \u001b[38;5;129;01mor\u001b[39;00m \u001b[38;5;28mself\u001b[39m\u001b[38;5;241m.\u001b[39m_forward_hooks \u001b[38;5;129;01mor\u001b[39;00m \u001b[38;5;28mself\u001b[39m\u001b[38;5;241m.\u001b[39m_forward_pre_hooks\n\u001b[0;32m   1499\u001b[0m         \u001b[38;5;129;01mor\u001b[39;00m _global_backward_pre_hooks \u001b[38;5;129;01mor\u001b[39;00m _global_backward_hooks\n\u001b[0;32m   1500\u001b[0m         \u001b[38;5;129;01mor\u001b[39;00m _global_forward_hooks \u001b[38;5;129;01mor\u001b[39;00m _global_forward_pre_hooks):\n\u001b[1;32m-> 1501\u001b[0m     \u001b[38;5;28;01mreturn\u001b[39;00m forward_call(\u001b[38;5;241m*\u001b[39margs, \u001b[38;5;241m*\u001b[39m\u001b[38;5;241m*\u001b[39mkwargs)\n\u001b[0;32m   1502\u001b[0m \u001b[38;5;66;03m# Do not call functions when jit is used\u001b[39;00m\n\u001b[0;32m   1503\u001b[0m full_backward_hooks, non_full_backward_hooks \u001b[38;5;241m=\u001b[39m [], []\n",
      "File \u001b[1;32mF:\\miniconda\\envs\\py310\\lib\\site-packages\\torch\\nn\\modules\\loss.py:536\u001b[0m, in \u001b[0;36mMSELoss.forward\u001b[1;34m(self, input, target)\u001b[0m\n\u001b[0;32m    535\u001b[0m \u001b[38;5;28;01mdef\u001b[39;00m \u001b[38;5;21mforward\u001b[39m(\u001b[38;5;28mself\u001b[39m, \u001b[38;5;28minput\u001b[39m: Tensor, target: Tensor) \u001b[38;5;241m-\u001b[39m\u001b[38;5;241m>\u001b[39m Tensor:\n\u001b[1;32m--> 536\u001b[0m     \u001b[38;5;28;01mreturn\u001b[39;00m \u001b[43mF\u001b[49m\u001b[38;5;241;43m.\u001b[39;49m\u001b[43mmse_loss\u001b[49m\u001b[43m(\u001b[49m\u001b[38;5;28;43minput\u001b[39;49m\u001b[43m,\u001b[49m\u001b[43m \u001b[49m\u001b[43mtarget\u001b[49m\u001b[43m,\u001b[49m\u001b[43m \u001b[49m\u001b[43mreduction\u001b[49m\u001b[38;5;241;43m=\u001b[39;49m\u001b[38;5;28;43mself\u001b[39;49m\u001b[38;5;241;43m.\u001b[39;49m\u001b[43mreduction\u001b[49m\u001b[43m)\u001b[49m\n",
      "File \u001b[1;32mF:\\miniconda\\envs\\py310\\lib\\site-packages\\torch\\nn\\functional.py:3294\u001b[0m, in \u001b[0;36mmse_loss\u001b[1;34m(input, target, size_average, reduce, reduction)\u001b[0m\n\u001b[0;32m   3291\u001b[0m \u001b[38;5;28;01mif\u001b[39;00m size_average \u001b[38;5;129;01mis\u001b[39;00m \u001b[38;5;129;01mnot\u001b[39;00m \u001b[38;5;28;01mNone\u001b[39;00m \u001b[38;5;129;01mor\u001b[39;00m reduce \u001b[38;5;129;01mis\u001b[39;00m \u001b[38;5;129;01mnot\u001b[39;00m \u001b[38;5;28;01mNone\u001b[39;00m:\n\u001b[0;32m   3292\u001b[0m     reduction \u001b[38;5;241m=\u001b[39m _Reduction\u001b[38;5;241m.\u001b[39mlegacy_get_string(size_average, reduce)\n\u001b[1;32m-> 3294\u001b[0m expanded_input, expanded_target \u001b[38;5;241m=\u001b[39m \u001b[43mtorch\u001b[49m\u001b[38;5;241;43m.\u001b[39;49m\u001b[43mbroadcast_tensors\u001b[49m\u001b[43m(\u001b[49m\u001b[38;5;28;43minput\u001b[39;49m\u001b[43m,\u001b[49m\u001b[43m \u001b[49m\u001b[43mtarget\u001b[49m\u001b[43m)\u001b[49m\n\u001b[0;32m   3295\u001b[0m \u001b[38;5;28;01mreturn\u001b[39;00m torch\u001b[38;5;241m.\u001b[39m_C\u001b[38;5;241m.\u001b[39m_nn\u001b[38;5;241m.\u001b[39mmse_loss(expanded_input, expanded_target, _Reduction\u001b[38;5;241m.\u001b[39mget_enum(reduction))\n",
      "File \u001b[1;32mF:\\miniconda\\envs\\py310\\lib\\site-packages\\torch\\functional.py:74\u001b[0m, in \u001b[0;36mbroadcast_tensors\u001b[1;34m(*tensors)\u001b[0m\n\u001b[0;32m     72\u001b[0m \u001b[38;5;28;01mif\u001b[39;00m has_torch_function(tensors):\n\u001b[0;32m     73\u001b[0m     \u001b[38;5;28;01mreturn\u001b[39;00m handle_torch_function(broadcast_tensors, tensors, \u001b[38;5;241m*\u001b[39mtensors)\n\u001b[1;32m---> 74\u001b[0m \u001b[38;5;28;01mreturn\u001b[39;00m \u001b[43m_VF\u001b[49m\u001b[38;5;241;43m.\u001b[39;49m\u001b[43mbroadcast_tensors\u001b[49m\u001b[43m(\u001b[49m\u001b[43mtensors\u001b[49m\u001b[43m)\u001b[49m\n",
      "\u001b[1;31mRuntimeError\u001b[0m: The size of tensor a (10) must match the size of tensor b (128) at non-singleton dimension 1"
     ]
    }
   ],
   "source": [
    "import torch\n",
    "import torch.nn as nn\n",
    "import torch.optim as optim\n",
    "from torchvision import datasets, transforms\n",
    "\n",
    "# Define the batch size for training and testing\n",
    "batch_size = 128\n",
    "\n",
    "# Define the transformation to be applied to the data\n",
    "transform = transforms.Compose([\n",
    "    transforms.ToTensor(),\n",
    "    transforms.Normalize((0.1307,), (0.3081,))\n",
    "])\n",
    "\n",
    "# Load the MNIST dataset\n",
    "train_dataset = datasets.MNIST('./data', train=True, download=True, transform=transform)\n",
    "test_dataset = datasets.MNIST('./data', train=False, download=True, transform=transform)\n",
    "\n",
    "# Define the data loaders\n",
    "train_loader = torch.utils.data.DataLoader(train_dataset, batch_size=batch_size, shuffle=True)\n",
    "test_loader = torch.utils.data.DataLoader(test_dataset, batch_size=batch_size, shuffle=True)\n",
    "\n",
    "# Define the neural network model\n",
    "class Net(nn.Module):\n",
    "    def __init__(self):\n",
    "        super(Net, self).__init__()\n",
    "        self.fc1 = nn.Linear(784, 512)\n",
    "        self.fc2 = nn.Linear(512, 256)\n",
    "        self.fc3 = nn.Linear(256, 10)\n",
    "\n",
    "    def forward(self, x):\n",
    "        x = x.view(-1, 784)\n",
    "        x = nn.functional.relu(self.fc1(x))\n",
    "        x = nn.functional.relu(self.fc2(x))\n",
    "        x = self.fc3(x)\n",
    "        return x\n",
    "\n",
    "# Initialize the neural network model\n",
    "model = Net()\n",
    "\n",
    "# Define the loss function\n",
    "criterion = nn.MSELoss()\n",
    "\n",
    "# Define the optimizer\n",
    "optimizer = optim.SGD(model.parameters(), lr=0.01, momentum=0.5)\n",
    "\n",
    "# Train the model\n",
    "epochs = 10\n",
    "for epoch in range(epochs):\n",
    "    running_loss = 0.0\n",
    "    for batch_idx, (data, target) in enumerate(train_loader):\n",
    "        optimizer.zero_grad()\n",
    "        output = model(data)\n",
    "        loss = criterion(output, target.float())\n",
    "        loss.backward()\n",
    "        optimizer.step()\n",
    "        running_loss += loss.item()\n",
    "    print(\"Epoch {} - Training loss: {}\".format(epoch+1, running_loss/len(train_loader)))\n",
    "\n",
    "# Test the model\n",
    "correct = 0\n",
    "total = 0\n",
    "with torch.no_grad():\n",
    "    for data, target in test_loader:\n",
    "        output = model(data)\n",
    "        _, predicted = torch.max(output.data, 1)\n",
    "        total += target.size(0)\n",
    "        correct += (predicted == target).sum().item()\n",
    "\n",
    "print(\"Accuracy on the test set: {:.2f}%\".format(100 * correct / total))"
   ]
  },
  {
   "cell_type": "code",
   "execution_count": null,
   "id": "3de339a0",
   "metadata": {},
   "outputs": [],
   "source": [
    "# test"
   ]
  },
  {
   "cell_type": "code",
   "execution_count": 151,
   "id": "22f67127",
   "metadata": {},
   "outputs": [],
   "source": [
    "net = Net(N=1,cut_off=cut_off,activation_type ='ReLU').to(device)"
   ]
  },
  {
   "cell_type": "code",
   "execution_count": 152,
   "id": "2115deb7",
   "metadata": {},
   "outputs": [],
   "source": [
    "data = torch.Tensor([[0,0],[0,0]]).cuda()"
   ]
  },
  {
   "cell_type": "code",
   "execution_count": 153,
   "id": "b5ce203f",
   "metadata": {},
   "outputs": [
    {
     "data": {
      "text/plain": [
       "tensor([[1.0766],\n",
       "        [1.0766]], device='cuda:0', grad_fn=<MmBackward0>)"
      ]
     },
     "execution_count": 153,
     "metadata": {},
     "output_type": "execute_result"
    }
   ],
   "source": [
    "net(data)"
   ]
  },
  {
   "cell_type": "code",
   "execution_count": 154,
   "id": "088091d8",
   "metadata": {},
   "outputs": [
    {
     "data": {
      "text/plain": [
       "tensor([1., 1.], device='cuda:0')"
      ]
     },
     "execution_count": 154,
     "metadata": {},
     "output_type": "execute_result"
    }
   ],
   "source": [
    "target = torch.sin(2 * np.pi * data[:,0]) + torch.cos(2 * np.pi * data[:,1])\n",
    "target"
   ]
  },
  {
   "cell_type": "code",
   "execution_count": 155,
   "id": "3c5471b4",
   "metadata": {},
   "outputs": [],
   "source": [
    "predict = net(data).view(-1)"
   ]
  },
  {
   "cell_type": "code",
   "execution_count": 157,
   "id": "83655b1c",
   "metadata": {},
   "outputs": [
    {
     "data": {
      "text/plain": [
       "tensor(0.0059, device='cuda:0', grad_fn=<MeanBackward0>)"
      ]
     },
     "execution_count": 157,
     "metadata": {},
     "output_type": "execute_result"
    }
   ],
   "source": [
    "loss = ((predict - target) **2).mean()\n",
    "loss"
   ]
  },
  {
   "cell_type": "code",
   "execution_count": 158,
   "id": "3d134d3b",
   "metadata": {},
   "outputs": [],
   "source": [
    "loss.backward()"
   ]
  },
  {
   "cell_type": "code",
   "execution_count": 159,
   "id": "1edbb2df",
   "metadata": {},
   "outputs": [
    {
     "data": {
      "text/plain": [
       "tensor([[1.2332],\n",
       "        [1.2332]], device='cuda:0', grad_fn=<AddmmBackward0>)"
      ]
     },
     "execution_count": 159,
     "metadata": {},
     "output_type": "execute_result"
    }
   ],
   "source": [
    "net.fc1(data)"
   ]
  },
  {
   "cell_type": "code",
   "execution_count": 162,
   "id": "1a85cc64",
   "metadata": {},
   "outputs": [],
   "source": [
    "err = target-net(data).view(-1)"
   ]
  },
  {
   "cell_type": "code",
   "execution_count": 163,
   "id": "0a020ebc",
   "metadata": {},
   "outputs": [
    {
     "data": {
      "text/plain": [
       "tensor([-0.0766, -0.0766], device='cuda:0', grad_fn=<SubBackward0>)"
      ]
     },
     "execution_count": 163,
     "metadata": {},
     "output_type": "execute_result"
    }
   ],
   "source": [
    "err"
   ]
  },
  {
   "cell_type": "code",
   "execution_count": 164,
   "id": "c9c2ff19",
   "metadata": {
    "scrolled": true
   },
   "outputs": [
    {
     "name": "stdout",
     "output_type": "stream",
     "text": [
      "Parameter containing:\n",
      "tensor([[0.3973, 0.3350]], device='cuda:0', requires_grad=True)\n",
      "Parameter containing:\n",
      "tensor([1.2332], device='cuda:0', requires_grad=True)\n"
     ]
    }
   ],
   "source": [
    "layer_params = net.fc1.parameters()\n",
    "\n",
    "# Print the parameters\n",
    "for param in layer_params:\n",
    "    print(param)\n"
   ]
  },
  {
   "cell_type": "code",
   "execution_count": 165,
   "id": "839cefd1",
   "metadata": {},
   "outputs": [
    {
     "name": "stdout",
     "output_type": "stream",
     "text": [
      "Parameter containing:\n",
      "tensor([[0.8730]], device='cuda:0', requires_grad=True)\n"
     ]
    }
   ],
   "source": [
    "layer_params = net.fc2.parameters()\n",
    "\n",
    "# Print the parameters\n",
    "for param in layer_params:\n",
    "    print(param)"
   ]
  },
  {
   "cell_type": "code",
   "execution_count": 166,
   "id": "138c9ba5",
   "metadata": {
    "scrolled": false
   },
   "outputs": [
    {
     "name": "stdout",
     "output_type": "stream",
     "text": [
      "Gradient for parameter fc1.weight:\n",
      "tensor([[0., 0.]], device='cuda:0')\n",
      "Gradient for parameter fc1.bias:\n",
      "tensor([0.1338], device='cuda:0')\n",
      "Gradient for parameter fc2.weight:\n",
      "tensor([[0.1890]], device='cuda:0')\n"
     ]
    }
   ],
   "source": [
    "for name, param in net.named_parameters():\n",
    "    if param.grad is not None:\n",
    "        print(f\"Gradient for parameter {name}:\")\n",
    "        print(param.grad)"
   ]
  }
 ],
 "metadata": {
  "kernelspec": {
   "display_name": "Python 3",
   "language": "python",
   "name": "python3"
  },
  "language_info": {
   "codemirror_mode": {
    "name": "ipython",
    "version": 3
   },
   "file_extension": ".py",
   "mimetype": "text/x-python",
   "name": "python",
   "nbconvert_exporter": "python",
   "pygments_lexer": "ipython3",
   "version": "3.9.2"
  }
 },
 "nbformat": 4,
 "nbformat_minor": 5
}
